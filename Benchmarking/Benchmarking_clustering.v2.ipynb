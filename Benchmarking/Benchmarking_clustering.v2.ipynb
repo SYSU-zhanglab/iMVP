{
 "cells": [
  {
   "attachments": {},
   "cell_type": "markdown",
   "id": "770d7065",
   "metadata": {},
   "source": [
    "# Benchmarking of clustering methods \n",
    "\n",
    "---\n",
    "\n",
    "Author: Jianheng Liu @ Rui Zhang's Lab, SYSU, China\n",
    "\n",
    "Email: jhfoxliu@gmail.com\n",
    "\n",
    "Date: Jan, 2022\n",
    "\n",
    "Update: May, 2023"
   ]
  },
  {
   "cell_type": "markdown",
   "id": "d4ad4cce",
   "metadata": {},
   "source": [
    "## Hardware\n",
    "\n",
    "- Sytem: Ubuntu 18.04.5 LTS\n",
    "- CPU: Intel(R) Xeon(R) CPU E5-2680 v3 @ 2.50GHz (12 cores)\n",
    "- Disk: SAMSUNG MZ7LH960HAJR-00005 (SSD)\n",
    "- RAM: 64G(32Gx2) DDR4 2666MHz\n",
    "- GPU: RTX2080Ti (Driver Version: 495.29.05, CUDA Version: 11.5)\n",
    "\n",
    "## Packages\n",
    "\n",
    "- Python==3.7.8\n",
    "- numpy==1.20.0\n",
    "- scipy==1.5.1\n",
    "- umap-learn==0.5.2\n",
    "- sklearn==0.23.1\n",
    "- matplotlib==3.2.2\n",
    "- seaborn==0.10.1\n",
    "- hdbscan==0.8.27\n",
    "- openTSNE==0.6.1"
   ]
  },
  {
   "cell_type": "markdown",
   "id": "bd143681",
   "metadata": {},
   "source": [
    "## 0. Configure the environment"
   ]
  },
  {
   "cell_type": "code",
   "execution_count": 1,
   "id": "a029c442",
   "metadata": {},
   "outputs": [],
   "source": [
    "import warnings\n",
    "warnings.filterwarnings('ignore')\n",
    "\n",
    "import time\n",
    "import tracemalloc  # monitor memory usage\n",
    "import sys, os\n",
    "import numpy as np\n",
    "import pandas as pd\n",
    "import matplotlib as mpl\n",
    "import matplotlib.pyplot as plt\n",
    "import seaborn as sns\n",
    "from sklearn.preprocessing import OneHotEncoder\n",
    "from sklearn import metrics\n",
    "import scipy.stats\n",
    "\n",
    "# We use UMAP here\n",
    "import umap  # this is CPU-based UMAP, use cuML for GPU version\n",
    "\n",
    "# tested methods\n",
    "import hdbscan\n",
    "from sklearn.cluster import KMeans\n",
    "from sklearn.cluster import DBSCAN\n",
    "from sklearn.cluster import SpectralClustering\n",
    "from sklearn.mixture import GaussianMixture\n",
    "from sklearn.cluster import AgglomerativeClustering\n",
    "from sklearn.cluster import OPTICS\n",
    "from sklearn.cluster import Birch\n",
    "\n",
    "from umap.umap_ import nearest_neighbors\n",
    "from scipy.sparse import issparse, coo_matrix, csr_matrix\n",
    "\n",
    "# louvain\n",
    "import louvain\n",
    "# leiden\n",
    "import leidenalg\n",
    "import igraph as ig\n",
    "\n",
    "# for Linux only, load font file\n",
    "mpl.font_manager.fontManager.addfont(\"./arial.ttf\")\n",
    "\n",
    "# configure matplotlib\n",
    "mpl.rcParams['font.family'] = 'Arial'\n",
    "mpl.rcParams['pdf.fonttype'] = 42\n",
    "\n",
    "# load table, used column=motif_F10\n",
    "df = pd.read_csv(\"./Fly_dev_table.motif.F10.csv\", index_col=[0,1,2], header=[0,1])\n",
    "# Prior knowledge: NSUN6-like TCNA, else, NSUN2-like\n",
    "df[(\"INFO\", \"Priori\")] = \"Type I\"\n",
    "df.loc[df[(\"INFO\", \"motif\")].isin([\"TCCA\", \"TCTA\", \"TCGA\", \"TCAA\"]), (\"INFO\", \"Priori\")] = \"Type II\"\n",
    "\n",
    "enc = OneHotEncoder(dtype=np.int8)\n",
    "enc.fit([[i] for i in \"ATCGN\"])\n",
    "\n",
    "def onehot_enc(row):\n",
    "    seq = [[i] for i in row[(\"INFO\", \"motif_F10\")].upper()]\n",
    "    return enc.transform(seq).toarray().reshape(-1)\n",
    "\n",
    "onehot_input = []\n",
    "for idx, row in df.iterrows():\n",
    "    onehot_input.append(onehot_enc(row))\n",
    "onehot_input = np.array(onehot_input)\n"
   ]
  },
  {
   "cell_type": "markdown",
   "id": "00ec681d",
   "metadata": {},
   "source": [
    "## 1. Generate UMAP"
   ]
  },
  {
   "cell_type": "code",
   "execution_count": 2,
   "id": "371d8a59",
   "metadata": {},
   "outputs": [
    {
     "name": "stdout",
     "output_type": "stream",
     "text": [
      "UMAP\n",
      "UMAP(init='random', min_dist=0.01, n_jobs=4, n_neighbors=20, random_state=42, verbose=True)\n",
      "Fri Apr  1 22:08:14 2022 Construct fuzzy simplicial set\n",
      "Fri Apr  1 22:08:14 2022 Finding Nearest Neighbors\n",
      "Fri Apr  1 22:08:14 2022 Building RP forest with 10 trees\n",
      "Fri Apr  1 22:08:15 2022 NN descent for 13 iterations\n",
      "\t 1  /  13\n",
      "\t 2  /  13\n",
      "\t 3  /  13\n",
      "\t 4  /  13\n",
      "\t 5  /  13\n",
      "\t 6  /  13\n",
      "\tStopping threshold met -- exiting after 6 iterations\n",
      "Fri Apr  1 22:10:46 2022 Finished Nearest Neighbor Search\n",
      "Fri Apr  1 22:10:48 2022 Construct embedding\n"
     ]
    },
    {
     "data": {
      "application/vnd.jupyter.widget-view+json": {
       "model_id": "7351945cac324689a295927a0cbbbae1",
       "version_major": 2,
       "version_minor": 0
      },
      "text/plain": [
       "HBox(children=(FloatProgress(value=0.0, description='Epochs completed', max=500.0, style=ProgressStyle(descrip…"
      ]
     },
     "metadata": {},
     "output_type": "display_data"
    },
    {
     "name": "stdout",
     "output_type": "stream",
     "text": [
      "\n",
      "Fri Apr  1 22:11:11 2022 Finished embedding\n",
      "UMAP time: 176.07669878005981 sec\n",
      "UMAP RAM: 0.0 MB\n",
      "==================================================\n",
      "\n"
     ]
    }
   ],
   "source": [
    "def UMAP(onehot_input, df):\n",
    "    df = df.copy()\n",
    "    # this should takes ~20 sec   \n",
    "    print(\"UMAP\")\n",
    "    current, _ = tracemalloc.get_traced_memory()\n",
    "    time0 = time.time()\n",
    "    \n",
    "    model = umap.UMAP(init=\"random\", random_state=42, n_components=2, min_dist=0.01, n_jobs=4, n_neighbors=20, verbose=True)\n",
    "    umap_output = model.fit_transform(onehot_input)\n",
    "    \n",
    "    time1 = time.time() - time0\n",
    "    _, peak = tracemalloc.get_traced_memory()\n",
    "    \n",
    "    mem = (peak - current)/1024./1024.\n",
    "    \n",
    "    print(\"UMAP time: {} sec\".format(time1))\n",
    "    print(\"UMAP RAM: {} MB\".format(mem))\n",
    "    print(\"==================================================\")\n",
    "    print()\n",
    "    df[\"X\"] = umap_output[:, 0]\n",
    "    df[\"Y\"] = umap_output[:, 1]\n",
    "    \n",
    "    del model\n",
    "    return time1, mem, df\n",
    "\n",
    "_, _, df_UMAP = UMAP(onehot_input, df)"
   ]
  },
  {
   "cell_type": "markdown",
   "id": "fe8acab0",
   "metadata": {},
   "source": [
    "**We also generate nearest neighbor graph with UMAP for Louvain and Leiden**\n",
    "\n",
    "Functions were obtained from the source code of `Scanpy`."
   ]
  },
  {
   "cell_type": "code",
   "execution_count": 3,
   "id": "49a88a34",
   "metadata": {},
   "outputs": [],
   "source": [
    "def get_sparse_matrix_from_indices_distances_umap(\n",
    "        knn_indices, knn_dists, n_obs, n_neighbors\n",
    "    ):\n",
    "    from scipy.sparse import issparse, coo_matrix, csr_matrix\n",
    "    rows = np.zeros((n_obs * n_neighbors), dtype=np.int64)\n",
    "    cols = np.zeros((n_obs * n_neighbors), dtype=np.int64)\n",
    "    vals = np.zeros((n_obs * n_neighbors), dtype=np.float64)\n",
    "\n",
    "    for i in range(knn_indices.shape[0]):\n",
    "        for j in range(n_neighbors):\n",
    "            if knn_indices[i, j] == -1:\n",
    "                continue  # We didn't get the full knn for i\n",
    "            if knn_indices[i, j] == i:\n",
    "                val = 0.0\n",
    "            else:\n",
    "                val = knn_dists[i, j]\n",
    "\n",
    "            rows[i * n_neighbors + j] = i\n",
    "            cols[i * n_neighbors + j] = knn_indices[i, j]\n",
    "            vals[i * n_neighbors + j] = val\n",
    "\n",
    "    result = coo_matrix((vals, (rows, cols)), shape=(n_obs, n_obs))\n",
    "    result.eliminate_zeros()\n",
    "    return result.tocsr()\n",
    "\n",
    "def compute_connectivities_umap(\n",
    "        knn_indices,\n",
    "        knn_dists,\n",
    "        n_obs,\n",
    "        n_neighbors,\n",
    "        set_op_mix_ratio=1.0,\n",
    "        local_connectivity=1.0,\n",
    "    ):\n",
    "    from scipy.sparse import issparse, coo_matrix, csr_matrix\n",
    "    from umap.umap_ import fuzzy_simplicial_set\n",
    "    X = coo_matrix(([], ([], [])), shape=(n_obs, 1))\n",
    "    connectivities = fuzzy_simplicial_set(\n",
    "        X,\n",
    "        n_neighbors,\n",
    "        None,\n",
    "        None,\n",
    "        knn_indices=knn_indices,\n",
    "        knn_dists=knn_dists,\n",
    "        set_op_mix_ratio=set_op_mix_ratio,\n",
    "        local_connectivity=local_connectivity,\n",
    "    )\n",
    "\n",
    "    if isinstance(connectivities, tuple):\n",
    "        # In umap-learn 0.4, this returns (result, sigmas, rhos)\n",
    "        connectivities = connectivities[0]\n",
    "\n",
    "    distances = get_sparse_matrix_from_indices_distances_umap(\n",
    "        knn_indices, knn_dists, n_obs, n_neighbors\n",
    "    )\n",
    "\n",
    "    return distances, connectivities.tocsr()\n",
    "\n",
    "def get_igraph_from_adjacency(adjacency, directed=None):\n",
    "    \"\"\"Get igraph graph from adjacency matrix.\"\"\"\n",
    "    sources, targets = adjacency.nonzero()\n",
    "    weights = adjacency[sources, targets]\n",
    "    if isinstance(weights, np.matrix):\n",
    "        weights = weights.A1\n",
    "    g = ig.Graph(directed=directed)\n",
    "    g.add_vertices(adjacency.shape[0])  # this adds adjacency.shape[0] vertices\n",
    "    g.add_edges(list(zip(sources, targets)))\n",
    "    try:\n",
    "        g.es['weight'] = weights\n",
    "    except KeyError:\n",
    "        pass\n",
    "    return g\n",
    "\n",
    "def get_igraph(onehot_input, random_state = 42, metric=\"euclidean\", n_neighbors = 20, metric_kwds={}, angular=False, verbose=False):\n",
    "    time0 = time.time()\n",
    "    n_obs = onehot_input.shape[0]\n",
    "    \n",
    "    knn_indices, knn_dists, forest = nearest_neighbors(\n",
    "            onehot_input,\n",
    "            n_neighbors,\n",
    "            random_state=random_state,\n",
    "            metric=metric,\n",
    "            metric_kwds=metric_kwds,\n",
    "            angular=angular,\n",
    "            verbose=verbose,\n",
    "            n_jobs=4,\n",
    "        )\n",
    "      \n",
    "    distances, connectivities = compute_connectivities_umap(knn_indices, knn_dists, n_obs, n_neighbors, set_op_mix_ratio=1.0, local_connectivity=1.0)\n",
    " \n",
    "    g = get_igraph_from_adjacency(connectivities)\n",
    "    return g, time.time() - time0"
   ]
  },
  {
   "cell_type": "code",
   "execution_count": 4,
   "id": "6573b82b",
   "metadata": {},
   "outputs": [],
   "source": [
    "g, time_graph = get_igraph(onehot_input)"
   ]
  },
  {
   "cell_type": "markdown",
   "id": "6439ae2e",
   "metadata": {},
   "source": [
    "## 2. Test clustering methods"
   ]
  },
  {
   "cell_type": "markdown",
   "id": "4f290c06",
   "metadata": {},
   "source": [
    "### 2.1 Partitioning methods "
   ]
  },
  {
   "cell_type": "markdown",
   "id": "c5397859",
   "metadata": {},
   "source": [
    "### K-Means"
   ]
  },
  {
   "cell_type": "code",
   "execution_count": 5,
   "id": "5b352bd3",
   "metadata": {},
   "outputs": [
    {
     "name": "stdout",
     "output_type": "stream",
     "text": [
      "K-Means:\n",
      "K-Means time: 0.13914036750793457 sec\n",
      "K-Means RAM: 0.4582939147949219 Mb\n",
      "==================================================\n",
      "\n",
      "K-Means:\n",
      "K-Means time: 0.13164019584655762 sec\n",
      "K-Means RAM: 0.4253110885620117 Mb\n",
      "==================================================\n",
      "\n",
      "K-Means:\n",
      "K-Means time: 0.1259610652923584 sec\n",
      "K-Means RAM: 0.42490482330322266 Mb\n",
      "==================================================\n",
      "\n"
     ]
    }
   ],
   "source": [
    "def cluster_KMeans(df):\n",
    "    df = df.copy()\n",
    "    # very fast\n",
    "    X = np.stack([df[\"X\"], df[\"Y\"]], axis=1)\n",
    "    print(\"K-Means:\")\n",
    "    tracemalloc.start()\n",
    "    current, _ = tracemalloc.get_traced_memory()\n",
    "    time0 = time.time()\n",
    "    model = KMeans(n_clusters=2, random_state=42).fit(X)\n",
    "    labels = model.labels_\n",
    "    \n",
    "    time1 = time.time() - time0\n",
    "    _, peak = tracemalloc.get_traced_memory()\n",
    "    mem = (peak - current)/1024./1024.\n",
    "    tracemalloc.stop()\n",
    "    print(\"K-Means time: {} sec\".format(time1))\n",
    "    print(\"K-Means RAM: {} Mb\".format(mem))\n",
    "    print(\"==================================================\")\n",
    "    print()\n",
    "    df[\"Cluster\"] = labels\n",
    "    \n",
    "    del model\n",
    "    return time1, mem, df\n",
    "\n",
    "t1, m1, _ = cluster_KMeans(df_UMAP)\n",
    "t2, m2, _ = cluster_KMeans(df_UMAP)\n",
    "t3, m3, df_KMeans = cluster_KMeans(df_UMAP)\n",
    "KMeans_time = [t1, t2, t3]\n",
    "KMeans_mem  = [m1, m2, m3]\n"
   ]
  },
  {
   "cell_type": "markdown",
   "id": "8ac0243f",
   "metadata": {},
   "source": [
    "### Gaussian Mixture Model (GMM)"
   ]
  },
  {
   "cell_type": "code",
   "execution_count": 6,
   "id": "0517fc7c",
   "metadata": {},
   "outputs": [
    {
     "name": "stdout",
     "output_type": "stream",
     "text": [
      "GMM time: 0.03200554847717285 sec\n",
      "GMM RAM: 0.722294807434082 Mb\n",
      "==================================================\n",
      "\n",
      "GMM time: 0.03834939002990723 sec\n",
      "GMM RAM: 0.710331916809082 Mb\n",
      "==================================================\n",
      "\n",
      "GMM time: 0.02554011344909668 sec\n",
      "GMM RAM: 0.7098617553710938 Mb\n",
      "==================================================\n",
      "\n"
     ]
    }
   ],
   "source": [
    "def cluster_GMM(df):\n",
    "    # very fast\n",
    "    df = df.copy()\n",
    "    X = np.stack([df[\"X\"], df[\"Y\"]], axis=1)\n",
    "    tracemalloc.start()\n",
    "    current, _ = tracemalloc.get_traced_memory()\n",
    "    time0 = time.time()\n",
    "    model = GaussianMixture(n_components=2, init_params=\"random\", random_state=42).fit(X)\n",
    "    model.fit(X)\n",
    "    labels = model.predict(X)\n",
    "    \n",
    "    time1 = time.time() - time0\n",
    "    _, peak = tracemalloc.get_traced_memory()\n",
    "    mem = (peak - current)/1024./1024.\n",
    "    tracemalloc.stop()\n",
    "    print(\"GMM time: {} sec\".format(time1))\n",
    "    print(\"GMM RAM: {} Mb\".format(mem))\n",
    "    print(\"==================================================\")\n",
    "    print()\n",
    "    df[\"Cluster\"] = labels\n",
    "    \n",
    "    del model\n",
    "    return time1, mem, df\n",
    "\n",
    "t1, m1, _ = cluster_GMM(df_UMAP)\n",
    "t2, m2, _ = cluster_GMM(df_UMAP)\n",
    "t3, m3, df_GMM = cluster_GMM(df_UMAP)\n",
    "GMM_time = [t1, t2, t3]\n",
    "GMM_mem  = [m1, m2, m3]"
   ]
  },
  {
   "cell_type": "markdown",
   "id": "ccb70b67",
   "metadata": {},
   "source": [
    "### 2.2 Graph-based methods"
   ]
  },
  {
   "cell_type": "markdown",
   "id": "15bfba23",
   "metadata": {},
   "source": [
    "### Spectral Clustering"
   ]
  },
  {
   "cell_type": "code",
   "execution_count": 7,
   "id": "aacceff5",
   "metadata": {},
   "outputs": [
    {
     "name": "stdout",
     "output_type": "stream",
     "text": [
      "SpectralClustering time: 8.103001117706299 sec\n",
      "SpectralClustering RAM: 2155.00324344635 Mb\n",
      "==================================================\n",
      "\n",
      "SpectralClustering time: 8.275740385055542 sec\n",
      "SpectralClustering RAM: 2154.6371850967407 Mb\n",
      "==================================================\n",
      "\n",
      "SpectralClustering time: 8.42909049987793 sec\n",
      "SpectralClustering RAM: 2154.6371850967407 Mb\n",
      "==================================================\n",
      "\n"
     ]
    }
   ],
   "source": [
    "def cluster_SpectralClustering(df):\n",
    "    df = df.copy()\n",
    "    X = np.stack([df[\"X\"], df[\"Y\"]], axis=1)\n",
    "    tracemalloc.start()\n",
    "    current, _ = tracemalloc.get_traced_memory()\n",
    "    time0 = time.time()\n",
    "    model = SpectralClustering(n_clusters=2, gamma=1, n_jobs=4)\n",
    "    labels = model.fit_predict(X)\n",
    "    \n",
    "    time1 = time.time() - time0\n",
    "    _, peak = tracemalloc.get_traced_memory()\n",
    "    mem = (peak - current)/1024./1024.\n",
    "    tracemalloc.stop()\n",
    "    print(\"SpectralClustering time: {} sec\".format(time1))\n",
    "    print(\"SpectralClustering RAM: {} Mb\".format(mem))\n",
    "    print(\"==================================================\")\n",
    "    print()\n",
    "    df[\"Cluster\"] = labels\n",
    "    \n",
    "    del model\n",
    "    return time1, mem, df\n",
    "\n",
    "t1, m1, _ = cluster_SpectralClustering(df_UMAP)\n",
    "t2, m2, _ = cluster_SpectralClustering(df_UMAP)\n",
    "t3, m3, df_SpectralClustering = cluster_SpectralClustering(df_UMAP)\n",
    "SpectralClustering_time = [t1, t2, t3]\n",
    "SpectralClustering_mem  = [m1, m2, m3]"
   ]
  },
  {
   "cell_type": "markdown",
   "id": "568ad46f",
   "metadata": {},
   "source": [
    "## Louvain"
   ]
  },
  {
   "cell_type": "code",
   "execution_count": 8,
   "id": "2dbf3767",
   "metadata": {},
   "outputs": [
    {
     "name": "stdout",
     "output_type": "stream",
     "text": [
      "Louvain time: 0.38994860649108887 sec\n",
      "Louvain RAM: 0.35763072967529297 Mb\n",
      "==================================================\n",
      "\n",
      "Louvain time: 0.3537142276763916 sec\n",
      "Louvain RAM: 0.3540534973144531 Mb\n",
      "==================================================\n",
      "\n",
      "Louvain time: 0.3351781368255615 sec\n",
      "Louvain RAM: 0.3540534973144531 Mb\n",
      "==================================================\n",
      "\n"
     ]
    }
   ],
   "source": [
    "def cluster_Louvain(df, graph):\n",
    "    df = df.copy()\n",
    "    tracemalloc.start()\n",
    "    current, _ = tracemalloc.get_traced_memory()\n",
    "    time0 = time.time()\n",
    "    \n",
    "    partition_type = louvain.RBConfigurationVertexPartition\n",
    "    model = louvain.find_partition(graph, partition_type, seed=42, resolution_parameter=0.35)\n",
    "    labels = np.array(model.membership)\n",
    "    \n",
    "    time1 = time.time() - time0\n",
    "    _, peak = tracemalloc.get_traced_memory()\n",
    "    mem = (peak - current)/1024./1024.\n",
    "    tracemalloc.stop()\n",
    "    print(\"Louvain time: {} sec\".format(time1))\n",
    "    print(\"Louvain RAM: {} Mb\".format(mem))\n",
    "    print(\"==================================================\")\n",
    "    print()\n",
    "    \n",
    "    df[\"Cluster\"] = labels\n",
    "    return time1, mem, df\n",
    "\n",
    "t1, m1, _ = cluster_Louvain(df_UMAP, g)\n",
    "t2, m2, _ = cluster_Louvain(df_UMAP, g)\n",
    "t3, m3, df_Louvain = cluster_Louvain(df_UMAP, g)\n",
    "Louvain_time = [t1, t2, t3]\n",
    "Louvain_mem  = [m1, m2, m3]"
   ]
  },
  {
   "cell_type": "markdown",
   "id": "e977e21f",
   "metadata": {},
   "source": [
    "## Leiden"
   ]
  },
  {
   "cell_type": "code",
   "execution_count": 9,
   "id": "328b7836",
   "metadata": {},
   "outputs": [
    {
     "name": "stdout",
     "output_type": "stream",
     "text": [
      "Louvain time: 0.19641399383544922 sec\n",
      "Louvain RAM: 0.3566017150878906 Mb\n",
      "==================================================\n",
      "\n",
      "Louvain time: 0.19185185432434082 sec\n",
      "Louvain RAM: 0.3540534973144531 Mb\n",
      "==================================================\n",
      "\n",
      "Louvain time: 0.1935873031616211 sec\n",
      "Louvain RAM: 0.3540534973144531 Mb\n",
      "==================================================\n",
      "\n"
     ]
    }
   ],
   "source": [
    "def cluster_Leiden(df, graph):\n",
    "    df = df.copy()\n",
    "    tracemalloc.start()\n",
    "    current, _ = tracemalloc.get_traced_memory()\n",
    "    time0 = time.time()\n",
    "    partition_type = leidenalg.RBConfigurationVertexPartition\n",
    "    model = leidenalg.find_partition(graph, partition_type, seed=42, resolution_parameter=0.35)\n",
    "    labels = model.membership\n",
    "    \n",
    "    time1 = time.time() - time0\n",
    "    _, peak = tracemalloc.get_traced_memory()\n",
    "    mem = (peak - current)/1024./1024.\n",
    "    tracemalloc.stop()\n",
    "    print(\"Louvain time: {} sec\".format(time1))\n",
    "    print(\"Louvain RAM: {} Mb\".format(mem))\n",
    "    print(\"==================================================\")\n",
    "    print()\n",
    "    \n",
    "    df[\"Cluster\"] = labels\n",
    "    return time1, mem, df\n",
    "\n",
    "t1, m1, _ = cluster_Leiden(df_UMAP, g)\n",
    "t2, m2, _ = cluster_Leiden(df_UMAP, g)\n",
    "t3, m3, df_Leiden = cluster_Leiden(df_UMAP, g)\n",
    "Leiden_time = [t1, t2, t3]\n",
    "Leiden_mem  = [m1, m2, m3]"
   ]
  },
  {
   "cell_type": "markdown",
   "id": "897f7d90",
   "metadata": {},
   "source": [
    "### 2.3 Hierarchical methods"
   ]
  },
  {
   "cell_type": "markdown",
   "id": "468cf511",
   "metadata": {},
   "source": [
    "### Agglomerative Clustering"
   ]
  },
  {
   "cell_type": "code",
   "execution_count": 10,
   "id": "f4a697ac",
   "metadata": {},
   "outputs": [
    {
     "name": "stdout",
     "output_type": "stream",
     "text": [
      "AgglomerativeClustering time: 1.8006300926208496 sec\n",
      "AgglomerativeClustering RAM: 302.9227132797241 Mb\n",
      "==================================================\n",
      "\n",
      "AgglomerativeClustering time: 1.7950620651245117 sec\n",
      "AgglomerativeClustering RAM: 302.92459297180176 Mb\n",
      "==================================================\n",
      "\n",
      "AgglomerativeClustering time: 1.7961456775665283 sec\n",
      "AgglomerativeClustering RAM: 302.9245948791504 Mb\n",
      "==================================================\n",
      "\n"
     ]
    }
   ],
   "source": [
    "def cluster_AgglomerativeClustering(df, linkage=\"complete\"):\n",
    "    # ~1 sec\n",
    "    df = df.copy()\n",
    "    X = np.stack([df[\"X\"], df[\"Y\"]], axis=1)\n",
    "    tracemalloc.start()\n",
    "    current, _ = tracemalloc.get_traced_memory()\n",
    "    time0 = time.time()\n",
    "    model = AgglomerativeClustering(linkage=linkage, n_clusters=2)\n",
    "    labels = model.fit_predict(X)\n",
    "    \n",
    "    time1 = time.time() - time0\n",
    "    _, peak = tracemalloc.get_traced_memory()\n",
    "    mem = (peak - current)/1024./1024.\n",
    "    tracemalloc.stop()\n",
    "    print(\"AgglomerativeClustering time: {} sec\".format(time1))\n",
    "    print(\"AgglomerativeClustering RAM: {} Mb\".format(mem))\n",
    "    print(\"==================================================\")\n",
    "    print()\n",
    "    df[\"Cluster\"] = labels\n",
    "    \n",
    "    del model\n",
    "    return time1, mem, df\n",
    "\n",
    "t1, m1, _ = cluster_AgglomerativeClustering(df_UMAP)\n",
    "t2, m2, _ = cluster_AgglomerativeClustering(df_UMAP)\n",
    "t3, m3, df_AgglomerativeClustering = cluster_AgglomerativeClustering(df_UMAP)\n",
    "AgglomerativeClustering_time = [t1+time_graph, t2+time_graph, t3+time_graph]\n",
    "AgglomerativeClustering_mem  = [m1, m2, m3]"
   ]
  },
  {
   "cell_type": "code",
   "execution_count": 11,
   "id": "b6195a95",
   "metadata": {},
   "outputs": [
    {
     "name": "stdout",
     "output_type": "stream",
     "text": [
      "AgglomerativeClustering time: 1.8587019443511963 sec\n",
      "AgglomerativeClustering RAM: 302.9217414855957 Mb\n",
      "==================================================\n",
      "\n",
      "AgglomerativeClustering time: 1.865170955657959 sec\n",
      "AgglomerativeClustering RAM: 302.92447090148926 Mb\n",
      "==================================================\n",
      "\n",
      "AgglomerativeClustering time: 1.8610022068023682 sec\n",
      "AgglomerativeClustering RAM: 302.92447090148926 Mb\n",
      "==================================================\n",
      "\n"
     ]
    }
   ],
   "source": [
    "t1, m1, _ = cluster_AgglomerativeClustering(df_UMAP, linkage=\"ward\")\n",
    "t2, m2, _ = cluster_AgglomerativeClustering(df_UMAP, linkage=\"ward\")\n",
    "t3, m3, df_AgglomerativeClustering2 = cluster_AgglomerativeClustering(df_UMAP, linkage=\"ward\")\n",
    "AgglomerativeClustering_time2 = [t1+time_graph, t2+time_graph, t3+time_graph]\n",
    "AgglomerativeClustering_mem2  = [m1, m2, m3]"
   ]
  },
  {
   "cell_type": "markdown",
   "id": "75659ee4",
   "metadata": {},
   "source": [
    "### BIRCH"
   ]
  },
  {
   "cell_type": "code",
   "execution_count": 12,
   "id": "1f7858f9",
   "metadata": {},
   "outputs": [
    {
     "name": "stdout",
     "output_type": "stream",
     "text": [
      "BIRCH  time: 0.33763885498046875 sec\n",
      "BIRCH  RAM: 1.8286876678466797 Mb\n",
      "==================================================\n",
      "\n",
      "BIRCH  time: 0.33318281173706055 sec\n",
      "BIRCH  RAM: 1.8135652542114258 Mb\n",
      "==================================================\n",
      "\n",
      "BIRCH  time: 0.332019567489624 sec\n",
      "BIRCH  RAM: 1.812687873840332 Mb\n",
      "==================================================\n",
      "\n"
     ]
    }
   ],
   "source": [
    "def cluster_BIRCH(df):\n",
    "    # ~1 sec\n",
    "    df = df.copy()\n",
    "    tracemalloc.start()\n",
    "    X = np.stack([df[\"X\"], df[\"Y\"]], axis=1)\n",
    "    current, _ = tracemalloc.get_traced_memory()\n",
    "    time0 = time.time()\n",
    "    model = Birch(n_clusters=2)\n",
    "    labels = model.fit_predict(X)\n",
    "    \n",
    "    time1 = time.time() - time0\n",
    "    _, peak = tracemalloc.get_traced_memory()\n",
    "    mem = (peak - current)/1024./1024.\n",
    "    tracemalloc.stop()\n",
    "    print(\"BIRCH  time: {} sec\".format(time1))\n",
    "    print(\"BIRCH  RAM: {} Mb\".format(mem))\n",
    "    print(\"==================================================\")\n",
    "    print()\n",
    "    df[\"Cluster\"] = labels\n",
    "    \n",
    "    del model\n",
    "    return time1, mem, df\n",
    "\n",
    "t1, m1, _ = cluster_BIRCH(df_UMAP)\n",
    "t2, m2, _ = cluster_BIRCH(df_UMAP)\n",
    "t3, m3, df_BIRCH = cluster_BIRCH(df_UMAP)\n",
    "BIRCH_time = [t1, t2, t3]\n",
    "BIRCH_mem  = [m1, m2, m3]"
   ]
  },
  {
   "cell_type": "markdown",
   "id": "0a374dbe",
   "metadata": {},
   "source": [
    "### 2.4 Density-based methods"
   ]
  },
  {
   "cell_type": "markdown",
   "id": "32375130",
   "metadata": {},
   "source": [
    "### OPTICS"
   ]
  },
  {
   "cell_type": "code",
   "execution_count": 13,
   "id": "6905ad5e",
   "metadata": {},
   "outputs": [
    {
     "name": "stdout",
     "output_type": "stream",
     "text": [
      "OPTICS time: 9.392059564590454 sec\n",
      "OPTICS RAM: 3.005115509033203 Mb\n",
      "==================================================\n",
      "\n",
      "OPTICS time: 9.460694074630737 sec\n",
      "OPTICS RAM: 2.9916820526123047 Mb\n",
      "==================================================\n",
      "\n",
      "OPTICS time: 9.407339334487915 sec\n",
      "OPTICS RAM: 2.9916820526123047 Mb\n",
      "==================================================\n",
      "\n"
     ]
    }
   ],
   "source": [
    "def cluster_OPTICS(df):\n",
    "    # ~ 12 sec\n",
    "    df = df.copy()\n",
    "    X = np.stack([df[\"X\"], df[\"Y\"]], axis=1)\n",
    "    tracemalloc.start()\n",
    "    current, _ = tracemalloc.get_traced_memory()\n",
    "    time0 = time.time()\n",
    "    model = OPTICS(min_cluster_size=100, min_samples=10, xi=0.05,) # , n_jobs=4 \n",
    "    model.fit(X)\n",
    "    labels = model.labels_\n",
    "    \n",
    "    time1 = time.time() - time0\n",
    "    _, peak = tracemalloc.get_traced_memory()\n",
    "    mem = (peak - current)/1024./1024.\n",
    "    tracemalloc.stop()\n",
    "    print(\"OPTICS time: {} sec\".format(time1))\n",
    "    print(\"OPTICS RAM: {} Mb\".format(mem))\n",
    "    print(\"==================================================\")\n",
    "    print()\n",
    "    df[\"Cluster\"] = labels\n",
    "    \n",
    "    del model\n",
    "    return time1, mem, df\n",
    "\n",
    "t1, m1, _ = cluster_OPTICS(df_UMAP)\n",
    "t2, m2, _ = cluster_OPTICS(df_UMAP)\n",
    "t3, m3, df_OPTICS = cluster_OPTICS(df_UMAP)\n",
    "OPTICS_time = [t1, t2, t3]\n",
    "OPTICS_mem  = [m1, m2, m3]"
   ]
  },
  {
   "cell_type": "markdown",
   "id": "d10618a6",
   "metadata": {},
   "source": [
    "### DBSCAN"
   ]
  },
  {
   "cell_type": "code",
   "execution_count": 14,
   "id": "9c2d8493",
   "metadata": {},
   "outputs": [
    {
     "name": "stdout",
     "output_type": "stream",
     "text": [
      "DBSCAN time: 0.13265442848205566 sec\n",
      "DBSCAN RAM: 2.017561912536621 Mb\n",
      "==================================================\n",
      "\n",
      "DBSCAN time: 0.12918424606323242 sec\n",
      "DBSCAN RAM: 2.0090456008911133 Mb\n",
      "==================================================\n",
      "\n",
      "DBSCAN time: 0.1370558738708496 sec\n",
      "DBSCAN RAM: 2.011715888977051 Mb\n",
      "==================================================\n",
      "\n"
     ]
    }
   ],
   "source": [
    "def cluster_DBSCAN(df):\n",
    "    df = df.copy()\n",
    "    X = np.stack([df[\"X\"], df[\"Y\"]], axis=1)\n",
    "    tracemalloc.start()\n",
    "    current, _ = tracemalloc.get_traced_memory()\n",
    "    time0 = time.time()\n",
    "    model = DBSCAN(eps=0.4, min_samples=100, n_jobs=4)\n",
    "    labels = model.fit_predict(X)\n",
    "    \n",
    "    time1 = time.time() - time0\n",
    "    _, peak = tracemalloc.get_traced_memory()\n",
    "    mem = (peak - current)/1024./1024.\n",
    "    tracemalloc.stop()\n",
    "    print(\"DBSCAN time: {} sec\".format(time1))\n",
    "    print(\"DBSCAN RAM: {} Mb\".format(mem))\n",
    "    print(\"==================================================\")\n",
    "    print()\n",
    "    df[\"Cluster\"] = labels\n",
    "    del model\n",
    "    return time1, mem, df\n",
    "\n",
    "t1, m1, _ = cluster_DBSCAN(df_UMAP)\n",
    "t2, m2, _ = cluster_DBSCAN(df_UMAP)\n",
    "t3, m3, df_DBSCAN = cluster_DBSCAN(df_UMAP)\n",
    "DBSCAN_time = [t1, t2, t3]\n",
    "DBSCAN_mem  = [m1, m2, m3]"
   ]
  },
  {
   "cell_type": "markdown",
   "id": "53776dee",
   "metadata": {},
   "source": [
    "### HDBSCAN"
   ]
  },
  {
   "cell_type": "code",
   "execution_count": 15,
   "id": "365f4b19",
   "metadata": {},
   "outputs": [
    {
     "name": "stdout",
     "output_type": "stream",
     "text": [
      "HDBSCAN time: 0.35454678535461426 sec\n",
      "HDBSCAN RAM: 3.336172103881836 Mb\n",
      "==================================================\n",
      "\n",
      "HDBSCAN time: 0.3411445617675781 sec\n",
      "HDBSCAN RAM: 3.332674980163574 Mb\n",
      "==================================================\n",
      "\n",
      "HDBSCAN time: 0.337831974029541 sec\n",
      "HDBSCAN RAM: 3.332674980163574 Mb\n",
      "==================================================\n",
      "\n"
     ]
    }
   ],
   "source": [
    "def cluster_HDBSCAN(df):\n",
    "    df = df.copy()\n",
    "    X = np.stack([df[\"X\"], df[\"Y\"]], axis=1)\n",
    "    tracemalloc.start()\n",
    "    current, _ = tracemalloc.get_traced_memory()\n",
    "    time0 = time.time()\n",
    "    model = hdbscan.HDBSCAN(min_cluster_size=100, min_samples=10, cluster_selection_epsilon=0.0, cluster_selection_method='eom', core_dist_n_jobs=4)\n",
    "    labels = model.fit(X).labels_\n",
    "    \n",
    "    time1 = time.time() - time0\n",
    "    _, peak = tracemalloc.get_traced_memory()\n",
    "    mem = (peak - current)/1024./1024.\n",
    "    tracemalloc.stop()\n",
    "    print(\"HDBSCAN time: {} sec\".format(time1))\n",
    "    print(\"HDBSCAN RAM: {} Mb\".format(mem))\n",
    "    print(\"==================================================\")\n",
    "    print()\n",
    "    df[\"Cluster\"] = labels\n",
    "    del model\n",
    "    return time1, mem, df\n",
    "\n",
    "t1, m1, _ = cluster_HDBSCAN(df_UMAP)\n",
    "t2, m2, _ = cluster_HDBSCAN(df_UMAP)\n",
    "t3, m3, df_HDBSCAN = cluster_HDBSCAN(df_UMAP)\n",
    "HDBSCAN_time = [t1, t2, t3]\n",
    "HDBSCAN_mem  = [m1, m2, m3]"
   ]
  },
  {
   "cell_type": "markdown",
   "id": "d2c16796",
   "metadata": {},
   "source": [
    "### HDBSCAN (soft clustering)"
   ]
  },
  {
   "cell_type": "code",
   "execution_count": 16,
   "id": "694b9cf9",
   "metadata": {},
   "outputs": [
    {
     "name": "stdout",
     "output_type": "stream",
     "text": [
      "HDBSCAN soft clustering time: 0.8415451049804688 sec\n",
      "HDBSCAN soft clustering RAM: 3.332796096801758 Mb\n",
      "==================================================\n",
      "\n",
      "HDBSCAN soft clustering time: 0.8812875747680664 sec\n",
      "HDBSCAN soft clustering RAM: 3.332674980163574 Mb\n",
      "==================================================\n",
      "\n",
      "HDBSCAN soft clustering time: 0.8541085720062256 sec\n",
      "HDBSCAN soft clustering RAM: 3.332674980163574 Mb\n",
      "==================================================\n",
      "\n"
     ]
    }
   ],
   "source": [
    "def cluster_HDBSCAN_softclustering(df):\n",
    "    df = df.copy()\n",
    "    X = np.stack([df[\"X\"], df[\"Y\"]], axis=1)\n",
    "    tracemalloc.start()\n",
    "    current, _ = tracemalloc.get_traced_memory()\n",
    "    time0 = time.time()\n",
    "    \n",
    "    model = hdbscan.HDBSCAN(min_cluster_size=100, min_samples=10, cluster_selection_method='eom', core_dist_n_jobs=4, prediction_data=True)\n",
    "    yhat = model.fit(X)\n",
    "    \n",
    "    soft_clusters = hdbscan.all_points_membership_vectors(yhat)\n",
    "    labels = [np.argmax(x) for x in soft_clusters] \n",
    "    \n",
    "    time1 = time.time() - time0\n",
    "    _, peak = tracemalloc.get_traced_memory()\n",
    "    mem = (peak - current)/1024./1024.\n",
    "    tracemalloc.stop()\n",
    "    print(\"HDBSCAN soft clustering time: {} sec\".format(time1))\n",
    "    print(\"HDBSCAN soft clustering RAM: {} Mb\".format(mem))\n",
    "    print(\"==================================================\")\n",
    "    print()\n",
    "    df[\"Cluster\"] = labels\n",
    "    del model\n",
    "    return time1, mem, df\n",
    "\n",
    "t1, m1, _ = cluster_HDBSCAN_softclustering(df_UMAP)\n",
    "t2, m2, _ = cluster_HDBSCAN_softclustering(df_UMAP)\n",
    "t3, m3, df_HDBSCAN_soft = cluster_HDBSCAN_softclustering(df_UMAP)\n",
    "HDBSCAN_soft_time = [t1, t2, t3]\n",
    "HDBSCAN_soft_mem  = [m1, m2, m3]"
   ]
  },
  {
   "cell_type": "markdown",
   "id": "e755b695",
   "metadata": {},
   "source": [
    "## 3. Benchmarking"
   ]
  },
  {
   "cell_type": "markdown",
   "id": "9a626dbe",
   "metadata": {},
   "source": [
    "### 3.1 Comparing runtime"
   ]
  },
  {
   "cell_type": "code",
   "execution_count": 17,
   "id": "7ebddbf0",
   "metadata": {
    "scrolled": true
   },
   "outputs": [
    {
     "name": "stdout",
     "output_type": "stream",
     "text": [
      "                       Method  Time (sec)\n",
      "0                     K-Means    0.139140\n",
      "1                     K-Means    0.131640\n",
      "2                     K-Means    0.125961\n",
      "3                         GMM    0.032006\n",
      "4                         GMM    0.038349\n",
      "5                         GMM    0.025540\n",
      "6    Agglomerative (complete)    3.994942\n",
      "7    Agglomerative (complete)    3.989374\n",
      "8    Agglomerative (complete)    3.990458\n",
      "9        Agglomerative (ward)    4.053014\n",
      "10       Agglomerative (ward)    4.059483\n",
      "11       Agglomerative (ward)    4.055315\n",
      "12                      BIRCH    0.337639\n",
      "13                      BIRCH    0.333183\n",
      "14                      BIRCH    0.332020\n",
      "15        Spectral Clustering    8.103001\n",
      "16        Spectral Clustering    8.275740\n",
      "17        Spectral Clustering    8.429090\n",
      "18                    Louvain    0.389949\n",
      "19                    Louvain    0.353714\n",
      "20                    Louvain    0.335178\n",
      "21                     Leiden    0.196414\n",
      "22                     Leiden    0.191852\n",
      "23                     Leiden    0.193587\n",
      "24                     OPTICS    9.392060\n",
      "25                     OPTICS    9.460694\n",
      "26                     OPTICS    9.407339\n",
      "27                     DBSCAN    0.132654\n",
      "28                     DBSCAN    0.129184\n",
      "29                     DBSCAN    0.137056\n",
      "30                    HDBSCAN    0.354547\n",
      "31                    HDBSCAN    0.341145\n",
      "32                    HDBSCAN    0.337832\n",
      "33  HDBSCAN (soft clustering)    0.841545\n",
      "34  HDBSCAN (soft clustering)    0.881288\n",
      "35  HDBSCAN (soft clustering)    0.854109\n"
     ]
    },
    {
     "data": {
      "image/png": "[encoded data removed]",
      "text/plain": [
       "<Figure size 432x288 with 1 Axes>"
      ]
     },
     "metadata": {
      "needs_background": "light"
     },
     "output_type": "display_data"
    }
   ],
   "source": [
    "fig, ax = plt.subplots()\n",
    "df_time = pd.DataFrame([KMeans_time, GMM_time, AgglomerativeClustering_time, AgglomerativeClustering_time2, BIRCH_time, SpectralClustering_time, Louvain_time, Leiden_time, OPTICS_time, DBSCAN_time, HDBSCAN_time, HDBSCAN_soft_time], index=[\"K-Means\", \"GMM\", \"Agglomerative (complete)\", \"Agglomerative (ward)\", \"BIRCH\", \"Spectral Clustering\", \"Louvain\", \"Leiden\", \"OPTICS\", \"DBSCAN\", \"HDBSCAN\", \"HDBSCAN (soft clustering)\"]).T\n",
    "df_time = df_time.melt(var_name=\"Method\", value_name=\"Time (sec)\")\n",
    "\n",
    "# saving results to disk\n",
    "df_time.to_csv(\"Clustering_runtime.csv\")\n",
    "\n",
    "print(df_time)\n",
    "sns.barplot(data=df_time, y=\"Method\", x=\"Time (sec)\", orient=\"h\", ax=ax, saturation=1, color=\"steelblue\")\n",
    "ax.set_ylabel(\"\")\n",
    "# plt.xticks(rotation=45, ha=\"right\")\n",
    "plt.tight_layout()\n",
    "plt.savefig(\"Clustering_runtime.pdf\")"
   ]
  },
  {
   "cell_type": "markdown",
   "id": "ccd0ad88",
   "metadata": {},
   "source": [
    "### 3.2 Memory Usage"
   ]
  },
  {
   "cell_type": "code",
   "execution_count": 18,
   "id": "98ea10eb",
   "metadata": {},
   "outputs": [
    {
     "name": "stdout",
     "output_type": "stream",
     "text": [
      "                       Method  Peak Memory (MB)\n",
      "0                     K-Means          0.458294\n",
      "1                     K-Means          0.425311\n",
      "2                     K-Means          0.424905\n",
      "3                         GMM          0.722295\n",
      "4                         GMM          0.710332\n",
      "5                         GMM          0.709862\n",
      "6    Agglomerative (complete)        302.922713\n",
      "7    Agglomerative (complete)        302.924593\n",
      "8    Agglomerative (complete)        302.924595\n",
      "9        Agglomerative (ward)        302.921741\n",
      "10       Agglomerative (ward)        302.924471\n",
      "11       Agglomerative (ward)        302.924471\n",
      "12                      BIRCH          1.828688\n",
      "13                      BIRCH          1.813565\n",
      "14                      BIRCH          1.812688\n",
      "15        Spectral Clustering       2155.003243\n",
      "16        Spectral Clustering       2154.637185\n",
      "17        Spectral Clustering       2154.637185\n",
      "18                    Louvain          0.357631\n",
      "19                    Louvain          0.354053\n",
      "20                    Louvain          0.354053\n",
      "21                     Leiden          0.356602\n",
      "22                     Leiden          0.354053\n",
      "23                     Leiden          0.354053\n",
      "24                     OPTICS          3.005116\n",
      "25                     OPTICS          2.991682\n",
      "26                     OPTICS          2.991682\n",
      "27                     DBSCAN          2.017562\n",
      "28                     DBSCAN          2.009046\n",
      "29                     DBSCAN          2.011716\n",
      "30                    HDBSCAN          3.336172\n",
      "31                    HDBSCAN          3.332675\n",
      "32                    HDBSCAN          3.332675\n",
      "33  HDBSCAN (soft clustering)          3.332796\n",
      "34  HDBSCAN (soft clustering)          3.332675\n",
      "35  HDBSCAN (soft clustering)          3.332675\n"
     ]
    },
    {
     "data": {
      "image/png": "[encoded data removed]",
      "text/plain": [
       "<Figure size 432x288 with 1 Axes>"
      ]
     },
     "metadata": {
      "needs_background": "light"
     },
     "output_type": "display_data"
    }
   ],
   "source": [
    "fig, ax = plt.subplots()\n",
    "df_mem = pd.DataFrame([KMeans_mem, GMM_mem, AgglomerativeClustering_mem, AgglomerativeClustering_mem2, BIRCH_mem, SpectralClustering_mem, Louvain_mem, Leiden_mem, OPTICS_mem, DBSCAN_mem, HDBSCAN_mem, HDBSCAN_soft_mem], index=[\"K-Means\", \"GMM\", \"Agglomerative (complete)\", \"Agglomerative (ward)\", \"BIRCH\", \"Spectral Clustering\", \"Louvain\", \"Leiden\",  \"OPTICS\", \"DBSCAN\", \"HDBSCAN\", \"HDBSCAN (soft clustering)\"]).T\n",
    "df_mem = df_mem.melt(var_name=\"Method\", value_name=\"Peak Memory (MB)\")\n",
    "\n",
    "# saving results to disk\n",
    "df_mem.to_csv(\"Clustering_Memory.csv\")\n",
    "\n",
    "print(df_mem)\n",
    "sns.barplot(data=df_mem, y=\"Method\", x=\"Peak Memory (MB)\", orient=\"h\", ax=ax, saturation=1, color=\"steelblue\")\n",
    "ax.set_ylabel(\"\")\n",
    "ax.set_xscale(\"log\")\n",
    "# plt.xticks(rotation=45, ha=\"right\")\n",
    "plt.tight_layout()\n",
    "plt.savefig(\"Clustering_Memory.pdf\")"
   ]
  },
  {
   "cell_type": "code",
   "execution_count": 50,
   "id": "380a66f2",
   "metadata": {},
   "outputs": [
    {
     "data": {
      "image/png": "[encoded data removed]",
      "text/plain": [
       "<Figure size 216x144 with 2 Axes>"
      ]
     },
     "metadata": {
      "needs_background": "light"
     },
     "output_type": "display_data"
    }
   ],
   "source": [
    "mpl.rcParams['xtick.labelsize'] = 7\n",
    "mpl.rcParams['ytick.labelsize'] = 7\n",
    "fig, axes = plt.subplots(1,2,figsize=(3, 2.),sharey=True)\n",
    "sns.barplot(data=df_time, y=\"Method\", x=\"Time (sec)\", orient=\"h\", ax=axes[0], saturation=1, color=\"steelblue\")\n",
    "sns.barplot(data=df_mem, y=\"Method\", x=\"Peak Memory (MB)\", orient=\"h\", ax=axes[1], saturation=1, color=\"steelblue\")\n",
    "axes[0].set_ylabel(\"\")\n",
    "axes[1].set_ylabel(\"\")\n",
    "axes[0].set_xlabel(\"Time (sec)\", size=7)\n",
    "axes[1].set_xlabel(\"Peak memory (MB)\", size=7)\n",
    "axes[0].set_xticks([0,5,10])\n",
    "axes[1].set_xticks([0,1000, 2000])\n",
    "plt.tight_layout()\n",
    "plt.savefig(\"Clustering_time_and_mem.h.pdf\")"
   ]
  },
  {
   "cell_type": "markdown",
   "id": "f096888d",
   "metadata": {},
   "source": [
    "### 3.3 Draw Scatters"
   ]
  },
  {
   "cell_type": "code",
   "execution_count": 34,
   "id": "5276fe50",
   "metadata": {},
   "outputs": [],
   "source": [
    "def draw_clusters(ax, df, xlabel, ylabel, title, compute_consistency=True):\n",
    "    clusters = set(df[\"Cluster\"].tolist())\n",
    "    \n",
    "    for i in clusters:\n",
    "        subdf = df[df[\"Cluster\"]==i]\n",
    "        if i == -1:\n",
    "            ax.scatter(subdf[\"X\"], subdf[\"Y\"], s=1, c=\"lightgray\", lw=0)\n",
    "        else:\n",
    "            ax.scatter(subdf[\"X\"], subdf[\"Y\"], s=1, alpha=1, lw=0, label=i)\n",
    "            c_X = subdf[\"X\"].mean()\n",
    "            c_Y = subdf[\"Y\"].mean()\n",
    "            # ax.annotate(\"{}\".format(i+1), xy=(c_X, c_Y), color=\"k\", ha=\"center\", va=\"center\", size=6) # , size=13\n",
    "\n",
    "    xmin, xmax = ax.get_xlim()\n",
    "    ymin, ymax = ax.get_ylim()\n",
    "    \n",
    "    # draw density\n",
    "    xx, yy = np.mgrid[xmin:xmax:100j, ymin:ymax:100j]\n",
    "    positions = np.vstack([xx.ravel(), yy.ravel()])\n",
    "    values = np.vstack([df[\"X\"], df[\"Y\"]])\n",
    "    kernel = scipy.stats.gaussian_kde(values)\n",
    "    f = np.reshape(kernel(positions).T, xx.shape)\n",
    "    c = ax.contour(xx, yy, f, linewidths=0.5, colors=\"k\")\n",
    "    ax.set_xticks([])\n",
    "    ax.set_yticks([])\n",
    "    \n",
    "    ax.set_xlabel(\"    \", size=6)\n",
    "    ax.set_ylabel(\"    \", size=6)\n",
    "    ax.set_title(title, size=9)\n",
    "    df.to_csv(\"{}.csv\".format(title.replace(\" \",\"_\")))"
   ]
  },
  {
   "cell_type": "code",
   "execution_count": 38,
   "id": "3b1b6573",
   "metadata": {},
   "outputs": [
    {
     "data": {
      "image/png": "[encoded data removed]",
      "text/plain": [
       "<Figure size 288x360 with 12 Axes>"
      ]
     },
     "metadata": {},
     "output_type": "display_data"
    }
   ],
   "source": [
    "palette = sns.color_palette(\"Set1\")\n",
    "mpl.rcParams['axes.prop_cycle'] = mpl.cycler(color=palette) \n",
    "\n",
    "fig, axes = plt.subplots(4,3, figsize=(4,5))\n",
    "\n",
    "draw_clusters(axes[0][0], df_KMeans, \"UMAP-1\", \"UMAP-2\", \"K-Means\")\n",
    "draw_clusters(axes[0][1], df_GMM, \"UMAP-1\", \"UMAP-2\", \"GMM\")\n",
    "draw_clusters(axes[0][2], df_BIRCH, \"UMAP-1\", \"UMAP-2\", \"BIRCH\")\n",
    "\n",
    "draw_clusters(axes[1][0], df_AgglomerativeClustering, \"UMAP-1\", \"UMAP-2\", \"complete\")\n",
    "draw_clusters(axes[1][1], df_AgglomerativeClustering2, \"UMAP-1\", \"UMAP-2\", \"ward\")\n",
    "draw_clusters(axes[1][2], df_SpectralClustering, \"UMAP-1\", \"UMAP-2\", \"Spectral\")\n",
    "\n",
    "draw_clusters(axes[2][0], df_Louvain, \"UMAP-1\", \"UMAP-2\", \"Louvain\")\n",
    "draw_clusters(axes[2][1], df_Leiden, \"UMAP-1\", \"UMAP-2\", \"Leiden\")\n",
    "draw_clusters(axes[2][2], df_OPTICS, \"UMAP-1\", \"UMAP-2\", \"OPTICS\")\n",
    "\n",
    "draw_clusters(axes[3][0], df_DBSCAN, \"UMAP-1\", \"UMAP-2\", \"DBSCAN\")\n",
    "draw_clusters(axes[3][1], df_HDBSCAN, \"UMAP-1\", \"UMAP-2\", \"HDBSCAN\")\n",
    "draw_clusters(axes[3][2], df_HDBSCAN_soft, \"UMAP-1\", \"UMAP-2\", \"Soft\")\n",
    "\n",
    "plt.tight_layout()\n",
    "plt.subplots_adjust(hspace=0.2)\n",
    "\n",
    "plt.savefig(\"Clustering_scatter.4x3.pdf\")"
   ]
  },
  {
   "cell_type": "markdown",
   "id": "6c5291af",
   "metadata": {},
   "source": [
    "### 3.4 Compute consistency "
   ]
  },
  {
   "cell_type": "code",
   "execution_count": 21,
   "id": "5ebf3505",
   "metadata": {},
   "outputs": [],
   "source": [
    "def cal_Precsion_Recall(df, name, predict_type=[0, 1], expected_type=[\"Type I\", \"Type II\"]):\n",
    "    # firstly, get confusion matrix\n",
    "    exp_values = []\n",
    "    for i in df[(\"INFO\", \"Priori\")]:\n",
    "        if i == expected_type[0]:\n",
    "            exp_values.append(0)\n",
    "        else:\n",
    "            exp_values.append(1)\n",
    "    pred_values = []\n",
    "    for i in df[\"Cluster\"]:\n",
    "        if i == predict_type[0]:\n",
    "            pred_values.append(0)\n",
    "        elif i == predict_type[1]:\n",
    "            pred_values.append(1)\n",
    "        elif i == -1:\n",
    "            pred_values.append(-1)\n",
    "    matrix = metrics.confusion_matrix(exp_values, pred_values)\n",
    "    if matrix.shape[0] == 3:\n",
    "        confusion_matrix = pd.DataFrame(matrix, index=[-1, 0, 1], columns=[-1,0,1])\n",
    "    else:\n",
    "        confusion_matrix = pd.DataFrame(matrix, index=[0, 1], columns=[0,1])\n",
    "    \n",
    "    TP1 = confusion_matrix.loc[0, 0]\n",
    "    TP2 = confusion_matrix.loc[1, 1]\n",
    "    \n",
    "    FP1 = confusion_matrix[0].sum() - TP1\n",
    "    FP2 = confusion_matrix[1].sum() - TP2\n",
    "    \n",
    "    TN1 = confusion_matrix.sum().sum() - confusion_matrix[0].sum() - confusion_matrix.loc[0].sum() + TP1\n",
    "    TN2 = confusion_matrix.sum().sum() - confusion_matrix[1].sum() - confusion_matrix.loc[1].sum() + TP2\n",
    "    \n",
    "    FN1 = confusion_matrix.loc[0].sum() - TP1\n",
    "    FN2 = confusion_matrix.loc[1].sum() - TP2\n",
    "    \n",
    "    Recall_1 = TP1/(TP1+FN1+0.0)\n",
    "    Precision_1 = TP1/(TP1+FP1+0.0)\n",
    "    \n",
    "    Recall_2 = TP2/(TP2+FN2+0.0)\n",
    "    Precision_2 = TP2/(TP2+FP2+0.0)\n",
    "    print(name)\n",
    "    print(confusion_matrix)\n",
    "    print(\"===============================\")\n",
    "    return name, Recall_1, Precision_1, Recall_2, Precision_2\n"
   ]
  },
  {
   "cell_type": "code",
   "execution_count": 22,
   "id": "4b6bdeeb",
   "metadata": {},
   "outputs": [
    {
     "name": "stdout",
     "output_type": "stream",
     "text": [
      "K-Means\n",
      "      0     1\n",
      "0  4897  2744\n",
      "1     1   760\n",
      "===============================\n",
      "GMM\n",
      "      0     1\n",
      "0  3838  3803\n",
      "1     0   761\n",
      "===============================\n",
      "BIRCH\n",
      "      0     1\n",
      "0  5643  1998\n",
      "1     1   760\n",
      "===============================\n",
      "Agglomerative (complete)\n",
      "      0     1\n",
      "0  4821  2820\n",
      "1     1   760\n",
      "===============================\n",
      "Agglomerative (ward)\n",
      "      0     1\n",
      "0  5254  2387\n",
      "1     1   760\n",
      "===============================\n",
      "Spectral Clustering\n",
      "      0    1\n",
      "0  7523  118\n",
      "1     3  758\n",
      "===============================\n",
      "Louvain\n",
      "      0    1\n",
      "0  7548   93\n",
      "1     4  757\n",
      "===============================\n",
      "Leiden\n",
      "      0    1\n",
      "0  7548   93\n",
      "1     4  757\n",
      "===============================\n",
      "OPTICS\n",
      "     -1     0    1\n",
      "-1    0     0    0\n",
      " 0  134  7449   58\n",
      " 1   10     3  748\n",
      "===============================\n",
      "DBSCAN\n",
      "    -1     0    1\n",
      "-1   0     0    0\n",
      " 0  64  7480   97\n",
      " 1   1     3  757\n",
      "===============================\n",
      "HDBSCAN\n",
      "     -1     0    1\n",
      "-1    0     0    0\n",
      " 0  120  7443   78\n",
      " 1    6     3  752\n",
      "===============================\n",
      "HDBSCAN (soft clustering)\n",
      "      0    1\n",
      "0  7495  146\n",
      "1     2  759\n",
      "===============================\n"
     ]
    }
   ],
   "source": [
    "Precision_Recall_data = []\n",
    "Precision_Recall_data.append(cal_Precsion_Recall(df_KMeans, \"K-Means\", predict_type=[1, 0]))\n",
    "Precision_Recall_data.append(cal_Precsion_Recall(df_GMM, \"GMM\", predict_type=[1, 0]))\n",
    "Precision_Recall_data.append(cal_Precsion_Recall(df_BIRCH, \"BIRCH\"))\n",
    "\n",
    "Precision_Recall_data.append(cal_Precsion_Recall(df_AgglomerativeClustering, \"Agglomerative (complete)\", predict_type=[1, 0]))\n",
    "Precision_Recall_data.append(cal_Precsion_Recall(df_AgglomerativeClustering2, \"Agglomerative (ward)\", predict_type=[0, 1]))\n",
    "Precision_Recall_data.append(cal_Precsion_Recall(df_SpectralClustering, \"Spectral Clustering\"))\n",
    "\n",
    "Precision_Recall_data.append(cal_Precsion_Recall(df_Louvain, \"Louvain\", predict_type=[0, 1]))\n",
    "Precision_Recall_data.append(cal_Precsion_Recall(df_Leiden, \"Leiden\", predict_type=[0, 1]))\n",
    "Precision_Recall_data.append(cal_Precsion_Recall(df_OPTICS, \"OPTICS\"))\n",
    "\n",
    "Precision_Recall_data.append(cal_Precsion_Recall(df_DBSCAN, \"DBSCAN\"))\n",
    "Precision_Recall_data.append(cal_Precsion_Recall(df_HDBSCAN, \"HDBSCAN\", predict_type=[1, 0]))\n",
    "Precision_Recall_data.append(cal_Precsion_Recall(df_HDBSCAN_soft, \"HDBSCAN (soft clustering)\", predict_type=[1, 0]))"
   ]
  },
  {
   "cell_type": "code",
   "execution_count": 23,
   "id": "13dc2706",
   "metadata": {},
   "outputs": [],
   "source": [
    "df_Precision_Recall = pd.DataFrame(Precision_Recall_data, columns=[\"Method\", \"Recall (Type I)\", \"Precision (Type I)\", \"Recall (Type II)\", \"Precision (Type II)\"])\n",
    "\n",
    "df_Precision = df_Precision_Recall[[\"Method\", \"Precision (Type I)\", \"Precision (Type II)\"]]\n",
    "df_Precision.columns = [\"Method\", \"Type I\", \"Type II\"]\n",
    "df_Precision = df_Precision.melt(id_vars=[\"Method\"], var_name=\"m5C Type\")\n",
    "df_Precision[\"Metric\"] = \"Precision\"\n",
    "\n",
    "df_Recall = df_Precision_Recall[[\"Method\", \"Recall (Type I)\", \"Recall (Type II)\"]]\n",
    "df_Recall.columns = [\"Method\", \"Type I\", \"Type II\"]\n",
    "df_Recall = df_Recall.melt(id_vars=[\"Method\"], var_name=\"m5C Type\")\n",
    "df_Recall[\"Metric\"] = \"Recall\"\n",
    "\n",
    "df_Precision_Recall = pd.concat([df_Precision, df_Recall])\n",
    "df_Precision_Recall.to_csv(\"Clustering.metrics.csv\")"
   ]
  },
  {
   "cell_type": "code",
   "execution_count": 24,
   "id": "3e2db75f",
   "metadata": {},
   "outputs": [
    {
     "data": {
      "image/png": "[encoded data removed]",
      "text/plain": [
       "<Figure size 288x504 with 2 Axes>"
      ]
     },
     "metadata": {
      "needs_background": "light"
     },
     "output_type": "display_data"
    }
   ],
   "source": [
    "fig, axes = plt.subplots(2,1, figsize=(4,7))\n",
    "_ = sns.barplot(data=df_Precision, y=\"Method\", x=\"value\", hue=\"m5C Type\", ax=axes[0], saturation=1, orient=\"h\")\n",
    "axes[0].legend(bbox_to_anchor=(1.02,1))\n",
    "axes[0].set_title(\"Precision\")\n",
    "axes[0].set_xlabel(\"\")\n",
    "\n",
    "_ = sns.barplot(data=df_Recall, y=\"Method\", x=\"value\", hue=\"m5C Type\", ax=axes[1], saturation=1, orient=\"h\")\n",
    "axes[1].legend_.remove()\n",
    "axes[1].set_title(\"Recall\")\n",
    "axes[1].set_xlabel(\"\")\n",
    "\n",
    "axes[0].set_ylabel(\"\")\n",
    "axes[1].set_ylabel(\"\")\n",
    "sns.despine()\n",
    "plt.savefig(\"Cluster_methods_Precision_Recall.pdf\")"
   ]
  },
  {
   "cell_type": "code",
   "execution_count": null,
   "id": "e5dc5e87",
   "metadata": {},
   "outputs": [],
   "source": []
  }
 ],
 "metadata": {
  "kernelspec": {
   "display_name": "Python 3",
   "language": "python",
   "name": "python3"
  },
  "language_info": {
   "codemirror_mode": {
    "name": "ipython",
    "version": 3
   },
   "file_extension": ".py",
   "mimetype": "text/x-python",
   "name": "python",
   "nbconvert_exporter": "python",
   "pygments_lexer": "ipython3",
   "version": "3.7.8"
  }
 },
 "nbformat": 4,
 "nbformat_minor": 5
}
