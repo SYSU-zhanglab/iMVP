{
 "cells": [
  {
   "cell_type": "markdown",
   "id": "2ac75a16-88b2-4e4d-8140-8558c72df22c",
   "metadata": {},
   "source": [
    "# Benchmarking: GPU vs CPU (UMAP and HDBSCAN)\n",
    "\n",
    "## CPU part\n",
    "\n",
    "---\n",
    "\n",
    "Author: Jianheng Liu @ Rui Zhang's Lab, SYSU, China\n",
    "\n",
    "Email: jhfoxliu@gmail.com\n",
    "\n",
    "Date: Jan, 2022"
   ]
  },
  {
   "cell_type": "markdown",
   "id": "8104fe21-0d10-4ed7-be9d-935fe6058444",
   "metadata": {},
   "source": [
    "**Notation \\#1: Assumed that you have finished `RNA_editing_landscape_GPU_part_I` notebook, so that we have `onehot.all_kmers.npy` file.**\n",
    "\n",
    "**Notation \\#2: HDBSCAN (CPU version) is incompatible with numpy v1.20.3 in RAPIDS. We hence split this note book into three parts (GPU, CPU, and figure).**\n",
    "\n",
    "**Notation \\#3: We use 6 cores in this analysis. Normally, UMAP and HDBSCAN can be extended linearly. X-fold cores used might make it X-fold faster.**"
   ]
  },
  {
   "cell_type": "markdown",
   "id": "dfbfcc1b-12d0-46c1-a7ff-4b59f5194151",
   "metadata": {},
   "source": [
    "## Hardware\n",
    "\n",
    "- Sytem: Ubuntu 18.04.5 LTS\n",
    "- CPU: Intel(R) Xeon(R) CPU E5-2680 v3 @ 2.50GHz (12 cores)\n",
    "- Disk: SAMSUNG MZ7LH960HAJR-00005 (SSD)\n",
    "- RAM: 64G(32Gx2) DDR4 2666MHz\n",
    "- GPU: RTX2080Ti (Driver Version: 495.29.05, CUDA Version: 11.5)\n",
    "\n",
    "## Running environment\n",
    "- Python==3.7.8\n",
    "- numpy==1.20.0\n",
    "- umap-learn==0.5.2\n",
    "- sklearn==0.23.1\n",
    "- hdbscan==0.8.27"
   ]
  },
  {
   "cell_type": "markdown",
   "id": "d64038b7-0b9f-409d-a5d8-f47641e22df4",
   "metadata": {},
   "source": [
    "## 0. Environment"
   ]
  },
  {
   "cell_type": "code",
   "execution_count": 1,
   "id": "3c977124-1db4-4a7e-98b5-345ab4c99101",
   "metadata": {},
   "outputs": [],
   "source": [
    "import numpy as np\n",
    "import pandas as pd\n",
    "import random\n",
    "\n",
    "from umap import UMAP\n",
    "from hdbscan import HDBSCAN\n",
    "\n",
    "import time\n",
    "time0 = time.time()\n",
    "\n",
    "# make it reproducible\n",
    "np.random.seed(42)"
   ]
  },
  {
   "cell_type": "markdown",
   "id": "c8b95116-d884-4b21-83c2-f33fc27164ab",
   "metadata": {},
   "source": [
    "## 1. Load data"
   ]
  },
  {
   "cell_type": "code",
   "execution_count": 2,
   "id": "f63c3cb6-187b-4c7e-9ae7-8ac8da49e3f4",
   "metadata": {},
   "outputs": [],
   "source": [
    "all_kmers_500M = np.load(\"onehot.all_kmers.npy\")"
   ]
  },
  {
   "cell_type": "markdown",
   "id": "dc099ca0-5f8e-481b-8b92-2823f2ce7068",
   "metadata": {},
   "source": [
    "## 2. Test UMAP\n",
    "\n",
    "For CPU, it takes much more time runing with the first model. I don't know the mechanism behind it. I guess it might relate to the memory allocation issue."
   ]
  },
  {
   "cell_type": "code",
   "execution_count": 3,
   "id": "eb09aa66-cfc4-4fdb-b098-cc72b65030a2",
   "metadata": {},
   "outputs": [
    {
     "name": "stdout",
     "output_type": "stream",
     "text": [
      "Items:1000: UMAP=8.366478681564331 sec\n",
      "Items:1000: UMAP=3.5953409671783447 sec\n",
      "Items:1000: UMAP=3.698909044265747 sec\n",
      "Items:1000: UMAP=3.5366437435150146 sec\n",
      "Items:10000: UMAP=176.5087184906006 sec\n",
      "Items:10000: UMAP=26.43204975128174 sec\n",
      "Items:10000: UMAP=26.3529953956604 sec\n",
      "Items:10000: UMAP=26.6754207611084 sec\n",
      "Items:50000: UMAP=62.91027045249939 sec\n",
      "Items:50000: UMAP=63.266845703125 sec\n",
      "Items:50000: UMAP=63.728842973709106 sec\n",
      "Items:100000: UMAP=131.7481803894043 sec\n",
      "Items:100000: UMAP=138.1359577178955 sec\n",
      "Items:100000: UMAP=131.2667429447174 sec\n",
      "Items:250000: UMAP=334.883403301239 sec\n",
      "Items:250000: UMAP=357.117484331131 sec\n",
      "Items:250000: UMAP=335.63633012771606 sec\n",
      "Items:500000: UMAP=727.0350477695465 sec\n",
      "Items:500000: UMAP=723.5665755271912 sec\n",
      "Items:500000: UMAP=682.6840653419495 sec\n",
      "Items:750000: UMAP=1081.8391349315643 sec\n",
      "Items:750000: UMAP=1065.4647288322449 sec\n",
      "Items:750000: UMAP=1059.9477207660675 sec\n",
      "Items:1000000: UMAP=1441.94624376297 sec\n",
      "Items:1000000: UMAP=1546.9514026641846 sec\n",
      "Items:1000000: UMAP=1496.7158463001251 sec\n"
     ]
    }
   ],
   "source": [
    "def test_UMAP(arr):\n",
    "    global umap_2d\n",
    "    size = arr.shape[0]\n",
    "    time0 = time.time()\n",
    "    \n",
    "    proj_2d = umap_2d.fit_transform(arr)\n",
    "    time2 = time.time() - time0\n",
    "    print(\"Items:{}: UMAP={} sec\".format(size, time2))\n",
    "\n",
    "    return time2, proj_2d\n",
    "\n",
    "sizes = [1000, 10000 , 50000, 100000 , 250000, 500000 , 750000, 1000000] #, 2000000, 3000000, 4000000, 5000000]\n",
    "Size_out = []\n",
    "Time_out = []\n",
    "Iter_out = []\n",
    "proj_out = []\n",
    "\n",
    "\n",
    "for s in sizes:\n",
    "    rng = np.random.default_rng()\n",
    "    test_arr = rng.choice(all_kmers_500M, s, replace=False)\n",
    "    # skip JIT\n",
    "    if s == 1000 or s == 10000:\n",
    "        umap_2d = UMAP(init=\"random\", random_state=42, min_dist=0.01, n_neighbors=20, n_jobs=6)\n",
    "        t, p = test_UMAP(test_arr)\n",
    "    for i in range(3):\n",
    "        umap_2d = UMAP(init=\"random\", random_state=42, min_dist=0.01, n_neighbors=20, n_jobs=6)\n",
    "        t, p = test_UMAP(test_arr)\n",
    "        Size_out.append(s)\n",
    "        Iter_out.append(i)\n",
    "        Time_out.append(t)\n",
    "        if i == 0:\n",
    "            proj_out.append(p)"
   ]
  },
  {
   "cell_type": "code",
   "execution_count": 4,
   "id": "ad4a09e9-2aa2-4459-956a-cb83fb6f680c",
   "metadata": {},
   "outputs": [
    {
     "name": "stdout",
     "output_type": "stream",
     "text": [
      "      Scale  Replicate   Time (sec) Method\n",
      "0      1000          0     3.595341    CPU\n",
      "1      1000          1     3.698909    CPU\n",
      "2      1000          2     3.536644    CPU\n",
      "3     10000          0    26.432050    CPU\n",
      "4     10000          1    26.352995    CPU\n",
      "5     10000          2    26.675421    CPU\n",
      "6     50000          0    62.910270    CPU\n",
      "7     50000          1    63.266846    CPU\n",
      "8     50000          2    63.728843    CPU\n",
      "9    100000          0   131.748180    CPU\n",
      "10   100000          1   138.135958    CPU\n",
      "11   100000          2   131.266743    CPU\n",
      "12   250000          0   334.883403    CPU\n",
      "13   250000          1   357.117484    CPU\n",
      "14   250000          2   335.636330    CPU\n",
      "15   500000          0   727.035048    CPU\n",
      "16   500000          1   723.566576    CPU\n",
      "17   500000          2   682.684065    CPU\n",
      "18   750000          0  1081.839135    CPU\n",
      "19   750000          1  1065.464729    CPU\n",
      "20   750000          2  1059.947721    CPU\n",
      "21  1000000          0  1441.946244    CPU\n",
      "22  1000000          1  1546.951403    CPU\n",
      "23  1000000          2  1496.715846    CPU\n"
     ]
    }
   ],
   "source": [
    "df_umap = pd.DataFrame(np.stack([Size_out, Iter_out, Time_out],axis=1), columns=[\"Scale\", \"Replicate\", \"Time (sec)\"])\n",
    "df_umap[\"Scale\"] = df_umap[\"Scale\"].astype(int)\n",
    "df_umap[\"Replicate\"] = df_umap[\"Replicate\"].astype(int)\n",
    "df_umap[\"Method\"] = \"CPU\"\n",
    "print(df_umap)"
   ]
  },
  {
   "cell_type": "code",
   "execution_count": 5,
   "id": "65a71d04-8bfb-41c3-8262-409f48091bb6",
   "metadata": {},
   "outputs": [],
   "source": [
    "df_umap.to_csv(\"UMAP_CPU_test.csv\")"
   ]
  },
  {
   "cell_type": "markdown",
   "id": "697c8d7b-de86-43f8-960e-56ccbe28eaf9",
   "metadata": {},
   "source": [
    "## 3. Test HDBSCAN\n",
    "\n",
    "The complexity of HDBSCAN varied from ~0 to o(N^2), depending on the structure of data. So we just compare it to CPU. \n",
    "\n",
    "750,000 items consume ~8.5G memory, which is close to the limit of RTX2080Ti. To make the test simple, we only test UMAP results with sample size <= 50,0000."
   ]
  },
  {
   "cell_type": "code",
   "execution_count": 6,
   "id": "04de79e8-19ea-473d-876e-a419f2eee26d",
   "metadata": {},
   "outputs": [
    {
     "name": "stdout",
     "output_type": "stream",
     "text": [
      "Items:1000: HDBSCAN=0.026746749877929688 sec\n",
      "Items:1000: HDBSCAN=0.023360729217529297 sec\n",
      "Items:1000: HDBSCAN=0.02311992645263672 sec\n",
      "Items:10000: HDBSCAN=0.24923968315124512 sec\n",
      "Items:10000: HDBSCAN=0.23403286933898926 sec\n",
      "Items:10000: HDBSCAN=0.24277925491333008 sec\n",
      "Items:50000: HDBSCAN=2.4807608127593994 sec\n",
      "Items:50000: HDBSCAN=0.8802845478057861 sec\n",
      "Items:50000: HDBSCAN=0.8844475746154785 sec\n",
      "Items:100000: HDBSCAN=1.9044508934020996 sec\n",
      "Items:100000: HDBSCAN=1.9112699031829834 sec\n",
      "Items:100000: HDBSCAN=1.894136905670166 sec\n",
      "Items:250000: HDBSCAN=5.649293899536133 sec\n",
      "Items:250000: HDBSCAN=5.616645336151123 sec\n",
      "Items:250000: HDBSCAN=5.646224021911621 sec\n",
      "Items:500000: HDBSCAN=13.55514407157898 sec\n",
      "Items:500000: HDBSCAN=13.531664609909058 sec\n",
      "Items:500000: HDBSCAN=13.579429864883423 sec\n"
     ]
    }
   ],
   "source": [
    "def test_HDBSCAN(arr):\n",
    "    global model\n",
    "    size = arr.shape[0]\n",
    "    if size > 500000:\n",
    "        return -1, -1\n",
    "    time0 = time.time()\n",
    "    yhat = model.fit(arr)\n",
    "    time3 = time.time() - time0\n",
    "    print(\"Items:{}: HDBSCAN={} sec\".format(size, time3))\n",
    "\n",
    "    del yhat\n",
    "    \n",
    "    return size, time3\n",
    "\n",
    "Size_out = []\n",
    "Time_out = []\n",
    "Iter_out = []\n",
    "\n",
    "for umap_out in proj_out:\n",
    "    for i in range(3):\n",
    "        model = HDBSCAN(min_cluster_size=100, min_samples=100, core_dist_n_jobs=6)\n",
    "        s, time_used = test_HDBSCAN(umap_out)\n",
    "        Size_out.append(s)\n",
    "        Iter_out.append(i)\n",
    "        Time_out.append(time_used)"
   ]
  },
  {
   "cell_type": "code",
   "execution_count": 7,
   "id": "00429177-6742-449e-b52b-8325fdf31d23",
   "metadata": {},
   "outputs": [
    {
     "name": "stdout",
     "output_type": "stream",
     "text": [
      "     Scale  Replicate  Time (sec) Method\n",
      "0     1000          0    0.026747    CPU\n",
      "1     1000          1    0.023361    CPU\n",
      "2     1000          2    0.023120    CPU\n",
      "3    10000          0    0.249240    CPU\n",
      "4    10000          1    0.234033    CPU\n",
      "5    10000          2    0.242779    CPU\n",
      "6    50000          0    2.480761    CPU\n",
      "7    50000          1    0.880285    CPU\n",
      "8    50000          2    0.884448    CPU\n",
      "9   100000          0    1.904451    CPU\n",
      "10  100000          1    1.911270    CPU\n",
      "11  100000          2    1.894137    CPU\n",
      "12  250000          0    5.649294    CPU\n",
      "13  250000          1    5.616645    CPU\n",
      "14  250000          2    5.646224    CPU\n",
      "15  500000          0   13.555144    CPU\n",
      "16  500000          1   13.531665    CPU\n",
      "17  500000          2   13.579430    CPU\n",
      "18      -1          0   -1.000000    CPU\n",
      "19      -1          1   -1.000000    CPU\n",
      "20      -1          2   -1.000000    CPU\n",
      "21      -1          0   -1.000000    CPU\n",
      "22      -1          1   -1.000000    CPU\n",
      "23      -1          2   -1.000000    CPU\n"
     ]
    }
   ],
   "source": [
    "df_hdbscan = pd.DataFrame(np.stack([Size_out, Iter_out, Time_out],axis=1), columns=[\"Scale\", \"Replicate\", \"Time (sec)\"])\n",
    "df_hdbscan[\"Scale\"] = df_hdbscan[\"Scale\"].astype(int)\n",
    "df_hdbscan[\"Replicate\"] = df_hdbscan[\"Replicate\"].astype(int)\n",
    "df_hdbscan[\"Method\"] = \"CPU\"\n",
    "print(df_hdbscan)"
   ]
  },
  {
   "cell_type": "code",
   "execution_count": 8,
   "id": "72d89e96-eee3-4ade-be8a-038aadb87e7c",
   "metadata": {},
   "outputs": [],
   "source": [
    "df_hdbscan.to_csv(\"HDBSCAN_CPU_test.csv\")"
   ]
  },
  {
   "cell_type": "code",
   "execution_count": null,
   "id": "3aa9969b-dc7c-424c-af0d-17434414b6bc",
   "metadata": {},
   "outputs": [],
   "source": []
  }
 ],
 "metadata": {
  "kernelspec": {
   "display_name": "Python 3",
   "language": "python",
   "name": "python3"
  },
  "language_info": {
   "codemirror_mode": {
    "name": "ipython",
    "version": 3
   },
   "file_extension": ".py",
   "mimetype": "text/x-python",
   "name": "python",
   "nbconvert_exporter": "python",
   "pygments_lexer": "ipython3",
   "version": "3.7.8"
  }
 },
 "nbformat": 4,
 "nbformat_minor": 5
}
