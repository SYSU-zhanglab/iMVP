{
 "cells": [
  {
   "cell_type": "markdown",
   "id": "2ac75a16-88b2-4e4d-8140-8558c72df22c",
   "metadata": {},
   "source": [
    "# Benchmarking: GPU vs CPU (UMAP and HDBSCAN)\n",
    "\n",
    "---\n",
    "\n",
    "Author: Jianheng Liu @ Rui Zhang's Lab, SYSU, China\n",
    "\n",
    "Email: jhfoxliu@gmail.com\n",
    "\n",
    "Date: Jan, 2022"
   ]
  },
  {
   "cell_type": "markdown",
   "id": "8104fe21-0d10-4ed7-be9d-935fe6058444",
   "metadata": {},
   "source": [
    "**Notation \\#1: Assumed that you have finished `RNA_editing_landscape_GPU_part_I` notebook, so that we have `onehot.all_kmers.npy` file.**\n",
    "\n",
    "**Notation \\#2: HDBSCAN (CPU version) is incompatible with numpy-1.2.3 in RAPIDS. We hence split this note book into three parts (GPU, CPU, and figure).**"
   ]
  },
  {
   "cell_type": "markdown",
   "id": "dfbfcc1b-12d0-46c1-a7ff-4b59f5194151",
   "metadata": {},
   "source": [
    "## Hardware\n",
    "\n",
    "- Sytem: Ubuntu 18.04.5 LTS\n",
    "- CPU: Intel(R) Xeon(R) CPU E5-2680 v3 @ 2.50GHz (12 cores)\n",
    "- Disk: SAMSUNG MZ7LH960HAJR-00005 (SSD)\n",
    "- RAM: 64G(32Gx2) DDR4 2666MHz\n",
    "- GPU: RTX2080Ti (Driver Version: 495.29.05, CUDA Version: 11.5)\n",
    "\n",
    "## Container Environment\n",
    "\n",
    "**RAPIDS 21.12** (see https://rapids.ai/start.html)\n",
    "- Ubuntu 20.04\n",
    "- All packages\n",
    "- Python 3.8\n",
    "- CUDA 11.5"
   ]
  },
  {
   "cell_type": "markdown",
   "id": "d64038b7-0b9f-409d-a5d8-f47641e22df4",
   "metadata": {},
   "source": [
    "## 0. Environment"
   ]
  },
  {
   "cell_type": "code",
   "execution_count": 1,
   "id": "3c977124-1db4-4a7e-98b5-345ab4c99101",
   "metadata": {},
   "outputs": [],
   "source": [
    "import numpy as np\n",
    "import pandas as pd\n",
    "import random\n",
    "\n",
    "from cuml import UMAP\n",
    "from cuml import HDBSCAN\n",
    "\n",
    "import time\n",
    "time0 = time.time()\n",
    "\n",
    "# make it reproducible\n",
    "np.random.seed(42)"
   ]
  },
  {
   "cell_type": "markdown",
   "id": "c8b95116-d884-4b21-83c2-f33fc27164ab",
   "metadata": {},
   "source": [
    "## 1. Load data"
   ]
  },
  {
   "cell_type": "code",
   "execution_count": 2,
   "id": "f63c3cb6-187b-4c7e-9ae7-8ac8da49e3f4",
   "metadata": {},
   "outputs": [],
   "source": [
    "all_kmers_500M = np.load(\"onehot.all_kmers.npy\")"
   ]
  },
  {
   "cell_type": "markdown",
   "id": "dc099ca0-5f8e-481b-8b92-2823f2ce7068",
   "metadata": {},
   "source": [
    "## 2. Test UMAP\n",
    "\n",
    "Note: 4,000,000 items require ~8.5 Gb GPU memory, and 5,000,000 items are close to the limit of RTX2080Ti."
   ]
  },
  {
   "cell_type": "code",
   "execution_count": null,
   "id": "eb09aa66-cfc4-4fdb-b098-cc72b65030a2",
   "metadata": {},
   "outputs": [
    {
     "name": "stdout",
     "output_type": "stream",
     "text": [
      "Items:1000: UMAP=0.6943676471710205 sec\n",
      "Items:1000: UMAP=0.12947678565979004 sec\n",
      "Items:1000: UMAP=0.12945103645324707 sec\n",
      "Items:10000: UMAP=0.1695263385772705 sec\n",
      "Items:10000: UMAP=0.1737990379333496 sec\n",
      "Items:10000: UMAP=0.1710057258605957 sec\n",
      "Items:50000: UMAP=0.3412034511566162 sec\n",
      "Items:50000: UMAP=0.29175376892089844 sec\n",
      "Items:50000: UMAP=0.29529762268066406 sec\n",
      "Items:100000: UMAP=0.6215031147003174 sec\n",
      "Items:100000: UMAP=0.6038358211517334 sec\n",
      "Items:100000: UMAP=0.6042344570159912 sec\n",
      "Items:250000: UMAP=2.533763885498047 sec\n",
      "Items:250000: UMAP=2.4848456382751465 sec\n",
      "Items:250000: UMAP=2.490208148956299 sec\n",
      "Items:500000: UMAP=8.590981483459473 sec\n",
      "Items:500000: UMAP=8.536256790161133 sec\n",
      "Items:500000: UMAP=8.537830829620361 sec\n",
      "Items:750000: UMAP=18.568747520446777 sec\n",
      "Items:750000: UMAP=18.577062845230103 sec\n",
      "Items:750000: UMAP=18.662296772003174 sec\n",
      "Items:1000000: UMAP=32.38437509536743 sec\n",
      "Items:1000000: UMAP=32.23235034942627 sec\n",
      "Items:1000000: UMAP=32.264782190322876 sec\n",
      "Items:2000000: UMAP=123.26363396644592 sec\n",
      "Items:2000000: UMAP=122.6648690700531 sec\n",
      "Items:2000000: UMAP=122.80438613891602 sec\n",
      "Items:3000000: UMAP=269.7935719490051 sec\n",
      "Items:3000000: UMAP=269.9806191921234 sec\n",
      "Items:3000000: UMAP=269.21677350997925 sec\n",
      "Items:4000000: UMAP=474.80541038513184 sec\n",
      "Items:4000000: UMAP=473.70974349975586 sec\n"
     ]
    }
   ],
   "source": [
    "def test_UMAP(arr):\n",
    "    global umap_2d\n",
    "    size = arr.shape[0]\n",
    "    time0 = time.time()\n",
    "    \n",
    "    proj_2d = umap_2d.fit_transform(arr)\n",
    "    time2 = time.time() - time0\n",
    "    print(\"Items:{}: UMAP={} sec\".format(size, time2))\n",
    "\n",
    "    return time2, proj_2d\n",
    "\n",
    "sizes = [1000, 10000, 50000, 100000 , 250000, 500000, 750000, 1000000, 2000000, 3000000, 4000000, 5000000]\n",
    "Size_out = []\n",
    "Time_out = []\n",
    "Iter_out = []\n",
    "proj_out = []\n",
    "\n",
    "umap_2d = UMAP(init=\"random\", random_state=42, min_dist=0.01, n_neighbors=20)\n",
    "\n",
    "for s in sizes:\n",
    "    rng = np.random.default_rng()\n",
    "    test_arr = rng.choice(all_kmers_500M, s, replace=False)\n",
    "    for i in range(3):\n",
    "        t, p = test_UMAP(test_arr)\n",
    "        Size_out.append(s)\n",
    "        Iter_out.append(i)\n",
    "        Time_out.append(t)\n",
    "        if i == 0:\n",
    "            proj_out.append(p)"
   ]
  },
  {
   "cell_type": "code",
   "execution_count": null,
   "id": "ad4a09e9-2aa2-4459-956a-cb83fb6f680c",
   "metadata": {},
   "outputs": [],
   "source": [
    "df_umap = pd.DataFrame(np.stack([Size_out, Iter_out, Time_out],axis=1), columns=[\"Scale\", \"Replicate\", \"Time (sec)\"])\n",
    "df_umap[\"Scale\"] = df_umap[\"Scale\"].astype(int)\n",
    "df_umap[\"Replicate\"] = df_umap[\"Replicate\"].astype(int)\n",
    "df_umap[\"Method\"] = \"GPU\"\n",
    "print(df_umap)"
   ]
  },
  {
   "cell_type": "code",
   "execution_count": null,
   "id": "65a71d04-8bfb-41c3-8262-409f48091bb6",
   "metadata": {},
   "outputs": [],
   "source": [
    "df_umap.to_csv(\"UMAP_GPU_test.csv\")"
   ]
  },
  {
   "cell_type": "markdown",
   "id": "697c8d7b-de86-43f8-960e-56ccbe28eaf9",
   "metadata": {},
   "source": [
    "## 3. Test HDBSCAN\n",
    "\n",
    "The complexity of HDBSCAN varied from ~0 to o(N^2), depending on the structure of data. So we just compare it to CPU. \n",
    "\n",
    "750,000 items consume ~8.5G memory, which is close to the limit of RTX2080Ti. To make the test simple, we only test UMAP results with sample size <= 50,0000."
   ]
  },
  {
   "cell_type": "code",
   "execution_count": null,
   "id": "04de79e8-19ea-473d-876e-a419f2eee26d",
   "metadata": {},
   "outputs": [],
   "source": [
    "def test_HDBSCAN(arr):\n",
    "    global model\n",
    "    size = arr.shape[0]\n",
    "    if size > 500000:\n",
    "        return -1, -1\n",
    "    time0 = time.time()\n",
    "    yhat = model.fit(arr)\n",
    "    time3 = time.time() - time0\n",
    "    print(\"Items:{}: HDBSCAN={} sec\".format(size, time3))\n",
    "\n",
    "    del yhat\n",
    "    \n",
    "    return size, time3\n",
    "\n",
    "Size_out = []\n",
    "Time_out = []\n",
    "Iter_out = []\n",
    "model = HDBSCAN(min_cluster_size=100, min_samples=100)\n",
    "for umap_out in proj_out:\n",
    "    for i in range(3):\n",
    "        s, time_used = test_HDBSCAN(umap_out)\n",
    "        Size_out.append(s)\n",
    "        Iter_out.append(i)\n",
    "        Time_out.append(time_used)"
   ]
  },
  {
   "cell_type": "code",
   "execution_count": null,
   "id": "00429177-6742-449e-b52b-8325fdf31d23",
   "metadata": {},
   "outputs": [],
   "source": [
    "df_hdbscan = pd.DataFrame(np.stack([Size_out, Iter_out, Time_out],axis=1), columns=[\"Scale\", \"Replicate\", \"Time (sec)\"])\n",
    "df_hdbscan[\"Scale\"] = df_hdbscan[\"Scale\"].astype(int)\n",
    "df_hdbscan[\"Replicate\"] = df_hdbscan[\"Replicate\"].astype(int)\n",
    "df_hdbscan[\"Method\"] = \"GPU\"\n",
    "print(df_hdbscan)"
   ]
  },
  {
   "cell_type": "code",
   "execution_count": null,
   "id": "72d89e96-eee3-4ade-be8a-038aadb87e7c",
   "metadata": {},
   "outputs": [],
   "source": [
    "df_hdbscan.to_csv(\"HDBSCAN_GPU_test.csv\")"
   ]
  },
  {
   "cell_type": "code",
   "execution_count": null,
   "id": "3aa9969b-dc7c-424c-af0d-17434414b6bc",
   "metadata": {},
   "outputs": [],
   "source": []
  }
 ],
 "metadata": {
  "kernelspec": {
   "display_name": "Python 3",
   "language": "python",
   "name": "python3"
  },
  "language_info": {
   "codemirror_mode": {
    "name": "ipython",
    "version": 3
   },
   "file_extension": ".py",
   "mimetype": "text/x-python",
   "name": "python",
   "nbconvert_exporter": "python",
   "pygments_lexer": "ipython3",
   "version": "3.8.12"
  }
 },
 "nbformat": 4,
 "nbformat_minor": 5
}
