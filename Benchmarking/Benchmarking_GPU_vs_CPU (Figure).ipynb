{
 "cells": [
  {
   "cell_type": "markdown",
   "id": "c19a0d9d",
   "metadata": {},
   "source": [
    "# Benchmarking: GPU vs CPU (UMAP and HDBSCAN)\n",
    "\n",
    "## Figure generation\n",
    "\n",
    "---\n",
    "\n",
    "Author: Jianheng Liu @ Rui Zhang's Lab, SYSU, China\n",
    "\n",
    "Email: jhfoxliu@gmail.com\n",
    "\n",
    "Date: Jan, 2022"
   ]
  },
  {
   "cell_type": "markdown",
   "id": "9f8c5a0b",
   "metadata": {},
   "source": [
    "## Packages\n",
    "\n",
    "- Python==3.7.8\n",
    "- numpy==1.20.0\n",
    "- scipy==1.5.1 or 1.7.3\n",
    "- umap-learn==0.5.2\n",
    "- sklearn==0.23.1\n",
    "- matplotlib==3.2.2\n",
    "- seaborn==0.10.1\n",
    "- hdbscan==0.8.27"
   ]
  },
  {
   "cell_type": "code",
   "execution_count": 1,
   "id": "c33205b5",
   "metadata": {},
   "outputs": [],
   "source": [
    "import time\n",
    "import sys, os\n",
    "import numpy as np\n",
    "import pandas as pd\n",
    "import matplotlib as mpl\n",
    "import matplotlib.pyplot as plt\n",
    "import matplotlib.ticker as ticker\n",
    "import seaborn as sns\n",
    "import scipy.stats\n",
    "\n",
    "# for Linux only, load font file\n",
    "mpl.font_manager.fontManager.addfont(\"./arial.ttf\")\n",
    "\n",
    "# configure matplotlib\n",
    "mpl.rcParams['font.family'] = 'Arial'\n",
    "mpl.rcParams['pdf.fonttype'] = 42"
   ]
  },
  {
   "cell_type": "markdown",
   "id": "e08a84d2",
   "metadata": {},
   "source": [
    "## Load tables"
   ]
  },
  {
   "cell_type": "code",
   "execution_count": 2,
   "id": "69b9c5ec",
   "metadata": {},
   "outputs": [],
   "source": [
    "df_UMAP_CPU = pd.read_csv(\"UMAP_CPU_test.csv\", index_col=0)\n",
    "df_UMAP_GPU = pd.read_csv(\"UMAP_GPU_test.csv\", index_col=0)"
   ]
  },
  {
   "cell_type": "code",
   "execution_count": 3,
   "id": "06e18148",
   "metadata": {
    "scrolled": true
   },
   "outputs": [
    {
     "name": "stdout",
     "output_type": "stream",
     "text": [
      "      Scale  Replicate  Time (sec) Method  Time (min)\n",
      "0      1000          0    8.235026    CPU    0.137250\n",
      "1      1000          1    3.649276    CPU    0.060821\n",
      "2      1000          2    3.495377    CPU    0.058256\n",
      "3     10000          0  174.221058    CPU    2.903684\n",
      "4     10000          1   26.401221    CPU    0.440020\n",
      "5     10000          2   26.317261    CPU    0.438621\n",
      "6     50000          0   63.822102    CPU    1.063702\n",
      "7     50000          1   63.723706    CPU    1.062062\n",
      "8     50000          2   63.012983    CPU    1.050216\n",
      "9    100000          0  129.518017    CPU    2.158634\n",
      "10   100000          1  130.209161    CPU    2.170153\n",
      "11   100000          2  131.516321    CPU    2.191939\n",
      "12   250000          0  328.845931    CPU    5.480766\n",
      "13   250000          1  331.162078    CPU    5.519368\n",
      "14   250000          2  331.113665    CPU    5.518561\n",
      "15   500000          0  697.810257    CPU   11.630171\n",
      "16   500000          1  704.153163    CPU   11.735886\n",
      "17   500000          2  706.433240    CPU   11.773887\n",
      "0      1000          0    0.694368    GPU    0.011573\n",
      "1      1000          1    0.129477    GPU    0.002158\n",
      "2      1000          2    0.129451    GPU    0.002158\n",
      "3     10000          0    0.169526    GPU    0.002825\n",
      "4     10000          1    0.173799    GPU    0.002897\n",
      "5     10000          2    0.171006    GPU    0.002850\n",
      "6     50000          0    0.341203    GPU    0.005687\n",
      "7     50000          1    0.291754    GPU    0.004863\n",
      "8     50000          2    0.295298    GPU    0.004922\n",
      "9    100000          0    0.621503    GPU    0.010358\n",
      "10   100000          1    0.603836    GPU    0.010064\n",
      "11   100000          2    0.604234    GPU    0.010071\n",
      "12   250000          0    2.533764    GPU    0.042229\n",
      "13   250000          1    2.484846    GPU    0.041414\n",
      "14   250000          2    2.490208    GPU    0.041503\n",
      "15   500000          0    8.590981    GPU    0.143183\n",
      "16   500000          1    8.536257    GPU    0.142271\n",
      "17   500000          2    8.537831    GPU    0.142297\n",
      "18   750000          0   18.568748    GPU    0.309479\n",
      "19   750000          1   18.577063    GPU    0.309618\n",
      "20   750000          2   18.662297    GPU    0.311038\n",
      "21  1000000          0   32.384375    GPU    0.539740\n",
      "22  1000000          1   32.232350    GPU    0.537206\n",
      "23  1000000          2   32.264782    GPU    0.537746\n",
      "24  2000000          0  123.263634    GPU    2.054394\n",
      "25  2000000          1  122.664869    GPU    2.044414\n",
      "26  2000000          2  122.804386    GPU    2.046740\n",
      "27  3000000          0  269.793572    GPU    4.496560\n",
      "28  3000000          1  269.980619    GPU    4.499677\n",
      "29  3000000          2  269.216774    GPU    4.486946\n",
      "30  4000000          0  474.805410    GPU    7.913424\n",
      "31  4000000          1  473.709743    GPU    7.895162\n",
      "32  4000000          2  472.838935    GPU    7.880649\n",
      "33  5000000          0  749.017594    GPU   12.483627\n",
      "34  5000000          1  869.547908    GPU   14.492465\n",
      "35  5000000          2  759.539007    GPU   12.658983\n"
     ]
    }
   ],
   "source": [
    "df_UMAP = pd.concat([df_UMAP_CPU, df_UMAP_GPU])\n",
    "df_UMAP = df_UMAP[df_UMAP[\"Time (sec)\"] != -1]\n",
    "df_UMAP[\"Time (min)\"] = df_UMAP[\"Time (sec)\"] / 60.0\n",
    "print(df_UMAP)"
   ]
  },
  {
   "cell_type": "code",
   "execution_count": 4,
   "id": "6066d772",
   "metadata": {},
   "outputs": [
    {
     "data": {
      "image/png": "[encoded data removed]",
      "text/plain": [
       "<Figure size 432x288 with 1 Axes>"
      ]
     },
     "metadata": {
      "needs_background": "light"
     },
     "output_type": "display_data"
    }
   ],
   "source": [
    "fig, ax = plt.subplots()\n",
    "lineplot=sns.lineplot(\n",
    "    data=df_UMAP, x=\"Scale\", y=\"Time (min)\", hue=\"Method\", err_style=\"bars\", ci=\"sd\"\n",
    ")\n",
    "ax.set_xscale(\"log\")\n",
    "# ax.set_yscale(\"log\")\n",
    "plt.tight_layout()\n",
    "plt.savefig(\"UMAP_CPU_vs_GPU.pdf\")"
   ]
  },
  {
   "cell_type": "code",
   "execution_count": 5,
   "id": "f356abe6",
   "metadata": {},
   "outputs": [],
   "source": [
    "df_HDBSCAN_CPU = pd.read_csv(\"HDBSCAN_CPU_test.csv\")\n",
    "df_HDBSCAN_GPU = pd.read_csv(\"HDBSCAN_GPU_test.csv\")"
   ]
  },
  {
   "cell_type": "code",
   "execution_count": 6,
   "id": "913d1b03",
   "metadata": {},
   "outputs": [],
   "source": [
    "df_HDBSCAN = pd.concat([df_HDBSCAN_CPU, df_HDBSCAN_GPU])\n",
    "df_HDBSCAN = df_HDBSCAN[df_HDBSCAN[\"Time (sec)\"] != -1]\n",
    "df_HDBSCAN[\"Time (min)\"] = df_HDBSCAN[\"Time (sec)\"] / 60.0"
   ]
  },
  {
   "cell_type": "code",
   "execution_count": 7,
   "id": "d0aa4e49",
   "metadata": {},
   "outputs": [
    {
     "data": {
      "image/png": "[encoded data removed]",
      "text/plain": [
       "<Figure size 432x288 with 1 Axes>"
      ]
     },
     "metadata": {
      "needs_background": "light"
     },
     "output_type": "display_data"
    }
   ],
   "source": [
    "fig, ax = plt.subplots()\n",
    "lineplot=sns.lineplot(\n",
    "    data=df_HDBSCAN, x=\"Scale\", y=\"Time (sec)\", hue=\"Method\", err_style=\"bars\", ci=\"sd\"\n",
    ")\n",
    "ax.set_xscale(\"log\")\n",
    "plt.tight_layout()\n",
    "plt.savefig(\"HDBSCAN_CPU_vs_GPU.pdf\")"
   ]
  },
  {
   "cell_type": "code",
   "execution_count": null,
   "id": "5d5ec222",
   "metadata": {},
   "outputs": [],
   "source": []
  }
 ],
 "metadata": {
  "kernelspec": {
   "display_name": "Python 3",
   "language": "python",
   "name": "python3"
  },
  "language_info": {
   "codemirror_mode": {
    "name": "ipython",
    "version": 3
   },
   "file_extension": ".py",
   "mimetype": "text/x-python",
   "name": "python",
   "nbconvert_exporter": "python",
   "pygments_lexer": "ipython3",
   "version": "3.7.8"
  }
 },
 "nbformat": 4,
 "nbformat_minor": 5
}
