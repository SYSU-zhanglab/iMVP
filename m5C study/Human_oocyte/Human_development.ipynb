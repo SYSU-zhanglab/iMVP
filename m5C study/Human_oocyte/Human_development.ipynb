{
 "cells": [
  {
   "cell_type": "markdown",
   "id": "32ef4ba2",
   "metadata": {},
   "source": [
    "## Analyzing m5C patterns in Human oocyte and embryonic stem cells (CPU-based)\n",
    "\n",
    "---\n",
    "\n",
    "Author: Jianheng Liu @ Rui Zhang's Lab, SYSU, China\n",
    "\n",
    "Email: jhfoxliu@gmail.com\n",
    "\n",
    "Date: Jan, 2022"
   ]
  },
  {
   "cell_type": "markdown",
   "id": "fd34d3e5",
   "metadata": {},
   "source": [
    "## Packages\n",
    "\n",
    "- Python==3.7.8\n",
    "- numpy==1.20.0\n",
    "- scipy==1.5.1\n",
    "- umap-learn==0.5.2\n",
    "- sklearn==0.23.1\n",
    "- matplotlib==3.2.2\n",
    "- seaborn==0.10.1\n",
    "- hdbscan==0.8.27"
   ]
  },
  {
   "cell_type": "markdown",
   "id": "bf560d04",
   "metadata": {},
   "source": [
    "## 0. Configure environment"
   ]
  },
  {
   "cell_type": "code",
   "execution_count": 1,
   "id": "e6173ced",
   "metadata": {},
   "outputs": [],
   "source": [
    "import time\n",
    "import sys, os\n",
    "import numpy as np\n",
    "import pandas as pd\n",
    "import matplotlib as mpl\n",
    "import matplotlib.pyplot as plt\n",
    "import matplotlib.ticker as ticker\n",
    "import seaborn as sns\n",
    "from sklearn.preprocessing import OneHotEncoder\n",
    "import scipy.stats\n",
    "import tracemalloc\n",
    "import umap\n",
    "import hdbscan\n",
    "\n",
    "# for Linux only, load font file\n",
    "mpl.font_manager.fontManager.addfont(\"./arial.ttf\")\n",
    "\n",
    "# configure matplotlib\n",
    "mpl.rcParams['font.family'] = 'Arial'\n",
    "mpl.rcParams['pdf.fonttype'] = 42\n",
    "\n",
    "tracemalloc.start()\n"
   ]
  },
  {
   "cell_type": "markdown",
   "id": "5a087778",
   "metadata": {},
   "source": [
    "This is a helper function useful for export fasta and motifs."
   ]
  },
  {
   "cell_type": "code",
   "execution_count": 2,
   "id": "788d654d",
   "metadata": {},
   "outputs": [],
   "source": [
    "def extract_fasta_and_draw_motifs(prefix, df, cluster_col=\"Cluster\", filter=None, motif_column=(\"INFO\", \"motif_F10\"), draw_logos=True):\n",
    "    print(\"===============  {} ===============\".format(prefix))\n",
    "    if os.path.isdir(\"{}\".format(prefix)) == False:\n",
    "        os.mkdir(\"./{}\".format(prefix))\n",
    "        os.mkdir(\"./{}/fasta\".format(prefix))\n",
    "        os.mkdir(\"./{}/logos_bits\".format(prefix))\n",
    "        os.mkdir(\"./{}/logos_bits_no_axis\".format(prefix))\n",
    "        os.mkdir(\"./{}/logos_freq\".format(prefix))\n",
    "        os.mkdir(\"./{}/logos_freq_png\".format(prefix))\n",
    "        os.mkdir(\"./{}/logos_bits_png\".format(prefix))\n",
    "    else:\n",
    "        os.system(\"rm -r ./{}/*\".format(prefix))\n",
    "        os.mkdir(\"./{}/fasta\".format(prefix))\n",
    "        os.mkdir(\"./{}/logos_bits\".format(prefix))\n",
    "        os.mkdir(\"./{}/logos_bits_no_axis\".format(prefix))\n",
    "        os.mkdir(\"./{}/logos_freq\".format(prefix))\n",
    "        os.mkdir(\"./{}/logos_freq_png\".format(prefix))\n",
    "        os.mkdir(\"./{}/logos_bits_png\".format(prefix))\n",
    "    if filter is not None:\n",
    "        df = df[df[filter] == True].copy()\n",
    "    clusters = set(df[cluster_col].tolist())\n",
    "    for g in clusters:\n",
    "        subdf = df[df[cluster_col] == g]\n",
    "        with open(\"./{}/fasta/cluster_{}.fa\".format(prefix, g), \"w\") as output:\n",
    "            N = 0\n",
    "            for idx, row in subdf.iterrows():\n",
    "                output.write(\">{}\\n{}\\n\".format(idx, row[motif_column].replace(\"T\", \"U\")))  # to RNA bases\n",
    "                N += 1\n",
    "            print(\"Cluster #{}: {}\".format(g, N))\n",
    "    if draw_logos == True:\n",
    "        for g in clusters:\n",
    "            os.system(\"weblogo -A rna -D fasta -F pdf --resolution 1000 --color-scheme classic --composition none -i -10 -P cluster_{g} -f ./{prefix}/fasta/cluster_{g}.fa > ./{prefix}/logos_bits/cluster_{g}.pdf\".format(prefix=prefix, g=g))\n",
    "            \n",
    "            os.system(\"weblogo -A rna -D fasta -F png --resolution 1000 --color-scheme classic --composition none -i -10 -P cluster_{g} -f ./{prefix}/fasta/cluster_{g}.fa > ./{prefix}/logos_bits_png/cluster_{g}.png\".format(prefix=prefix, g=g))\n",
    "\n",
    "            os.system(\"weblogo -A rna -D fasta -F pdf -y Frequency --resolution 1000 --color-scheme classic --units probability --composition none -i -10 -P cluster_{g} -f ./{prefix}/fasta/cluster_{g}.fa > ./{prefix}/logos_freq/cluster_{g}.pdf\".format(prefix=prefix, g=g))\n",
    "            \n",
    "            os.system(\"weblogo -A rna -D fasta -F png -y Frequency --resolution 1000 --color-scheme classic --units probability --composition none -i -10 -P cluster_{g} -f ./{prefix}/fasta/cluster_{g}.fa > ./{prefix}/logos_freq_png/cluster_{g}.png\".format(prefix=prefix, g=g)) \n",
    "            \n",
    "            os.system(\"weblogo -A rna -D fasta -X no -Y no -P \\\"\\\" -F pdf --resolution 1000 --color-scheme classic --composition none -i -10 -f ./{prefix}/fasta/cluster_{g}.fa > ./{prefix}/logos_bits_no_axis/cluster_{g}.pdf\".format(prefix=prefix, g=g))"
   ]
  },
  {
   "cell_type": "code",
   "execution_count": 3,
   "id": "11945815",
   "metadata": {},
   "outputs": [],
   "source": [
    "def show_logos(prefix, names=None):\n",
    "    for img in os.listdir(prefix):\n",
    "        if img.endswith(\".png\") == False:\n",
    "            continue\n",
    "        if names is not None and fn not in names:\n",
    "            continue\n",
    "        plt.figure()\n",
    "        image = plt.imread(prefix+\"/\"+img)\n",
    "        plt.imshow(image)\n",
    "        plt.axis(\"off\")"
   ]
  },
  {
   "cell_type": "code",
   "execution_count": 5,
   "id": "71423b64",
   "metadata": {},
   "outputs": [],
   "source": [
    "def show_logos_cols(prefix, names=None, cols=2, figsize=(8,8), auto_size=True):\n",
    "    file_list = []\n",
    "    for img in os.listdir(prefix):\n",
    "        if img.endswith(\".png\") == False:\n",
    "            continue\n",
    "        if names is not None and fn not in names:\n",
    "            continue\n",
    "        file_list.append(img)\n",
    "    \n",
    "    file_list_format = []\n",
    "    for i in file_list:\n",
    "        id = int(i.replace(\"cluster_\", \"\").replace(\".png\", \"\"))\n",
    "        file_list_format.append((i, id))\n",
    "    file_list_format = sorted(file_list_format, key=lambda x:x[1]) \n",
    "    \n",
    "    if len(file_list_format) % cols == 0:\n",
    "        rows = len(file_list_format) // cols\n",
    "    else:\n",
    "        rows = len(file_list_format) // cols + 1\n",
    "    if auto_size == False:\n",
    "        figsize = figsize\n",
    "    else:\n",
    "        width = 4 * cols\n",
    "        height = 1.5 * rows\n",
    "        figsize = (width, height)\n",
    "    \n",
    "    fig, axes = plt.subplots(rows, cols, figsize=figsize)\n",
    "    for ax, image in zip(*[axes.reshape(-1), file_list_format]):\n",
    "        fn, id = image\n",
    "        img = plt.imread(prefix+\"/\"+fn)\n",
    "        _ = ax.imshow(img)\n",
    "        ax.set_title(\"cluster_{}\".format(id))\n",
    "    for ax in axes.reshape(-1):\n",
    "        ax.axis(\"off\")\n",
    "    plt.tight_layout()"
   ]
  },
  {
   "cell_type": "markdown",
   "id": "dddaadff",
   "metadata": {},
   "source": [
    "This is a helper function useful for MEME analysis."
   ]
  },
  {
   "cell_type": "code",
   "execution_count": 4,
   "id": "0e18d577",
   "metadata": {},
   "outputs": [],
   "source": [
    "def run_meme(prefix, fasta_prefix, fn, mode=[\"streme\", \"meme\", \"ce\", \"cd\"], nmotifs=5):\n",
    "    if os.path.isdir(\"./{}/meme\".format(prefix)) == False:\n",
    "        os.mkdir(\"./{}/meme\".format(prefix))\n",
    "    else:\n",
    "        os.system(\"rm -r ./{}/meme/*\".format(prefix))\n",
    "    for m in mode:\n",
    "        if m == \"meme\":\n",
    "            # Normal mode\n",
    "            print(\"Runing MEME...\")\n",
    "            os.system(\"meme -rna -nmotifs {nmotifs} -minw 5 -maxw 10 -oc ./{prefix}/meme/{out}_meme ./{fasta_prefix}/{fn}\".format(fn=fn, prefix=prefix, nmotifs=nmotifs, fasta_prefix=fasta_prefix, out=fn.strip(\".fa\")))\n",
    "        elif m == \"ce\":\n",
    "            # CE mode\n",
    "            print(\"Runing MEME in CE mode...\")\n",
    "            os.system(\"meme -rna -objfun ce -cefrac 0.1 -nmotifs {nmotifs} -minw 5 -maxw 10 -oc ./{prefix}/meme/{out}_meme_ce ./{fasta_prefix}/{fn}\".format(fn=fn, prefix=prefix, nmotifs=nmotifs, fasta_prefix=fasta_prefix, out=fn.strip(\".fa\")))\n",
    "        elif m == \"cd\":\n",
    "            # CE mode\n",
    "            print(\"Runing MEME in CD mode...\")\n",
    "            os.system(\"meme -rna -objfun cd -cefrac 0.1 -nmotifs {nmotifs} -minw 5 -maxw 10 -oc ./{prefix}/meme/{out}_meme_cd ./{fasta_prefix}/{fn}\".format(fn=fn, prefix=prefix, nmotifs=nmotifs, fasta_prefix=fasta_prefix, out=fn.strip(\".fa\")))\n",
    "        elif m == \"streme\":\n",
    "            print(\"Runing STREME\")\n",
    "            os.system(\"streme --rna --pvt 0.05 -nmotifs {nmotifs} --minw 5 --maxw 10 --objfun cd --oc ./{prefix}/meme/{out}_streme --p ./{fasta_prefix}/{fn}\".format(fn=fn, prefix=prefix, fasta_prefix=fasta_prefix, nmotifs=nmotifs, out=fn.strip(\".fa\")))"
   ]
  },
  {
   "cell_type": "markdown",
   "id": "7d84b4bd",
   "metadata": {},
   "source": [
    "## 1. Load data and Hot-hot encoded\n",
    "\n",
    "In pratices, 'ATCG' and 'ATCGN' do not have huge difference. We can also mask 'N' into [0,0,0,0] rather than consider is a kind of base.\n",
    "\n",
    "Notably, the discard of 'N' saves up to 20% of memory usage!"
   ]
  },
  {
   "cell_type": "code",
   "execution_count": 6,
   "id": "981bc311",
   "metadata": {},
   "outputs": [],
   "source": [
    "df = pd.read_csv(\"./Human_dev.motif.F10.csv\", index_col=[0,1,2], header=[0,1])\n",
    "\n",
    "enc = OneHotEncoder(dtype=np.int8)\n",
    "enc.fit([[i] for i in \"ATCGN\"])\n",
    "\n",
    "def onehot_enc(row):\n",
    "    seq = [[i] for i in row[(\"INFO\", \"motif_F10\")].upper()]\n",
    "    return enc.transform(seq).toarray().reshape(-1)\n",
    "\n",
    "onehot_input = []\n",
    "for idx, row in df.iterrows():\n",
    "    onehot_input.append(onehot_enc(row))\n",
    "onehot_input = np.array(onehot_input)"
   ]
  },
  {
   "cell_type": "markdown",
   "id": "a1804852",
   "metadata": {},
   "source": [
    "## 2. Dimensional reduction wit UMAP\n",
    "\n",
    "In UMAP, we can adjust `min_dist`, `n_neighbors`, and `densmap` for different strength of decomposition. Lower (close to zero) `min_dist` is recommended for motif analysis. Higher `n_neighbors` can result in much condensed clusters, however, this will consume more time and memory, and its effect diminishes marginally. `densmap=True` can result in much condensed clusters, and of course, 2x computation time. With `densmap=True` you might ignore some patterns different but similar (e.g. motifs of NSUN2 and Nop2), hence it is not recommanded.\n",
    "\n",
    "It is known that duplication of input might reduce the efficiency of UMAP. You can use `unique=True` in UMAP and use `_unique_inverse_` to get back the data. You can also pre-process the data you use and then recover it before HDBSCAN (density is matter, we don't only care about the k-mers feature). [Ignore it if duplication rate is not high.]\n",
    "\n"
   ]
  },
  {
   "cell_type": "code",
   "execution_count": 7,
   "id": "3e471f20",
   "metadata": {},
   "outputs": [
    {
     "name": "stdout",
     "output_type": "stream",
     "text": [
      "UMAP\n",
      "UMAP(init='random', min_dist=0.01, n_neighbors=20, random_state=42, verbose=True)\n",
      "Wed Jan 19 01:43:35 2022 Construct fuzzy simplicial set\n",
      "Wed Jan 19 01:43:35 2022 Finding Nearest Neighbors\n",
      "Wed Jan 19 01:43:35 2022 Building RP forest with 15 trees\n",
      "Wed Jan 19 01:43:37 2022 NN descent for 15 iterations\n",
      "\t 1  /  15\n",
      "\t 2  /  15\n",
      "\t 3  /  15\n",
      "\t 4  /  15\n",
      "\t 5  /  15\n",
      "\t 6  /  15\n",
      "\t 7  /  15\n",
      "\tStopping threshold met -- exiting after 7 iterations\n",
      "Wed Jan 19 01:46:57 2022 Finished Nearest Neighbor Search\n",
      "Wed Jan 19 01:47:01 2022 Construct embedding\n"
     ]
    },
    {
     "data": {
      "application/vnd.jupyter.widget-view+json": {
       "model_id": "ef20e011c0fb49c39471fd49d4629c0c",
       "version_major": 2,
       "version_minor": 0
      },
      "text/plain": [
       "HBox(children=(FloatProgress(value=0.0, description='Epochs completed', max=200.0, style=ProgressStyle(descrip…"
      ]
     },
     "metadata": {},
     "output_type": "display_data"
    },
    {
     "name": "stdout",
     "output_type": "stream",
     "text": [
      "\n",
      "Wed Jan 19 01:47:51 2022 Finished embedding\n",
      "UMAP time: 256.9546401500702 sec\n",
      "UMAP RAM: 249.2234649658203 MB\n",
      "==================================================\n",
      "\n"
     ]
    }
   ],
   "source": [
    "def UMAP(onehot_input, df):\n",
    "    df = df.copy()\n",
    "    # this should takes ~20 sec   \n",
    "    print(\"UMAP\")\n",
    "    current, _ = tracemalloc.get_traced_memory()\n",
    "    time0 = time.time()\n",
    "    \n",
    "    model = umap.UMAP(init=\"random\", random_state=42, n_components=2, min_dist=0.01, n_neighbors=20, verbose=True, densmap=False)\n",
    "    umap_output = model.fit_transform(onehot_input)\n",
    "    \n",
    "    time1 = time.time() - time0\n",
    "    _, peak = tracemalloc.get_traced_memory()\n",
    "    \n",
    "    mem = (peak - current)/1024./1024.\n",
    "    \n",
    "    print(\"UMAP time: {} sec\".format(time1))\n",
    "    print(\"UMAP RAM: {} MB\".format(mem))\n",
    "    print(\"==================================================\")\n",
    "    print()\n",
    "    df[\"X\"] = umap_output[:, 0]\n",
    "    df[\"Y\"] = umap_output[:, 1]\n",
    "    \n",
    "    del model\n",
    "    return time1, mem, df\n",
    "\n",
    "_, _, df_UMAP = UMAP(onehot_input, df)"
   ]
  },
  {
   "cell_type": "markdown",
   "id": "e0d8636f",
   "metadata": {},
   "source": [
    "## 3. Cluster sites with HDBSCAN\n",
    "\n",
    "In HDBSCAN, we can adjust `min_cluster_size`, `min_samples`, `cluster_selection_epsilon` and `cluster_selection_method` to adjust the strength of clustering. Check https://hdbscan.readthedocs.io/en/latest/index.html for more information.\n"
   ]
  },
  {
   "cell_type": "code",
   "execution_count": 8,
   "id": "d2812f88",
   "metadata": {},
   "outputs": [
    {
     "name": "stdout",
     "output_type": "stream",
     "text": [
      "HDBSCAN soft clustering time: 8.029974699020386 sec\n",
      "HDBSCAN soft clustering RAM: 195.8099136352539 Mb\n",
      "HDBSCAN cluster number: 3\n",
      "==================================================\n",
      "Cluster\n",
      "1    10595\n",
      "2      722\n",
      "3    30414\n",
      "Name: Cluster, dtype: int64\n"
     ]
    }
   ],
   "source": [
    "def cluster_HDBSCAN_softclustering(df):\n",
    "    # use multi-code here\n",
    "    df = df.copy()\n",
    "    X = np.stack([df[\"X\"], df[\"Y\"]], axis=1)\n",
    "    current, _ = tracemalloc.get_traced_memory()\n",
    "    time0 = time.time()\n",
    "    \n",
    "    model = hdbscan.HDBSCAN(min_cluster_size=100, min_samples=1, cluster_selection_method='eom', core_dist_n_jobs=4, prediction_data=True)\n",
    "    yhat = model.fit(X)\n",
    "    \n",
    "    soft_clusters = hdbscan.all_points_membership_vectors(yhat)\n",
    "    labels = [np.argmax(x) for x in soft_clusters] \n",
    "    \n",
    "    time1 = time.time() - time0\n",
    "    _, peak = tracemalloc.get_traced_memory()\n",
    "    mem = (peak - current)/1024./1024.\n",
    "    \n",
    "    df[\"Cluster\"] = [i+1 if i > -1 else -1 for i in labels ]  # re-number lables to make it human-readable\n",
    "    \n",
    "    print(\"HDBSCAN soft clustering time: {} sec\".format(time1))\n",
    "    print(\"HDBSCAN soft clustering RAM: {} Mb\".format(mem))\n",
    "    print(\"HDBSCAN cluster number: {}\".format(df[\"Cluster\"].max()))\n",
    "    print(\"==================================================\")\n",
    "    # check cluster number\n",
    "    print(df.groupby(\"Cluster\")[\"Cluster\"].count())\n",
    "    return time1, mem, df, model\n",
    "\n",
    "_, _, df_HDBSCAN, HDBSCAN_model = cluster_HDBSCAN_softclustering(df_UMAP)\n",
    "\n"
   ]
  },
  {
   "cell_type": "code",
   "execution_count": 9,
   "id": "25b4ddf3",
   "metadata": {},
   "outputs": [],
   "source": [
    "tracemalloc.stop()"
   ]
  },
  {
   "cell_type": "markdown",
   "id": "795ede08",
   "metadata": {},
   "source": [
    "## 3.1 Draw single_linkage_tree of HDBSCAN (optional, slow)"
   ]
  },
  {
   "cell_type": "code",
   "execution_count": 10,
   "id": "476335cf",
   "metadata": {},
   "outputs": [
    {
     "data": {
      "image/png": "[encoded data removed]",
      "text/plain": [
       "<Figure size 432x288 with 2 Axes>"
      ]
     },
     "metadata": {
      "needs_background": "light"
     },
     "output_type": "display_data"
    }
   ],
   "source": [
    "fig, ax = plt.subplots()\n",
    "HDBSCAN_model.single_linkage_tree_.plot(cmap='viridis', colorbar=True)\n",
    "plt.savefig(\"HDBSCAN_single_linkage_tree.pdf\")\n",
    "plt.show()"
   ]
  },
  {
   "cell_type": "markdown",
   "id": "68dd0606",
   "metadata": {},
   "source": [
    "## 3.2 Draw condensed_tree of HDBSCAN (optional, suggested)\n",
    "\n",
    "Condensed tree is something benefits us in understanding how well HDBSCAN works. In this tree, we can clear find that HDBSCAN split the dataset into three major leaf/groups (blue, orange, and green). We can also notice that, the blue leaf and green leaf are much condensed, which means that the sequences in these two leafs are more similar to each other intergroup. In contrast, the green one has a more degenerated pattern."
   ]
  },
  {
   "cell_type": "code",
   "execution_count": 11,
   "id": "84f46b2b",
   "metadata": {},
   "outputs": [
    {
     "data": {
      "image/png": "[encoded data removed]",
      "text/plain": [
       "<Figure size 432x288 with 2 Axes>"
      ]
     },
     "metadata": {
      "needs_background": "light"
     },
     "output_type": "display_data"
    }
   ],
   "source": [
    "fig, ax = plt.subplots()\n",
    "HDBSCAN_model.condensed_tree_.plot(select_clusters=True, selection_palette=sns.color_palette())\n",
    "plt.savefig(\"HDBSCAN_condensed_tree.pdf\")\n",
    "plt.show()"
   ]
  },
  {
   "cell_type": "markdown",
   "id": "1b6f471f",
   "metadata": {},
   "source": [
    "## 4 Draw figure"
   ]
  },
  {
   "cell_type": "code",
   "execution_count": 12,
   "id": "bdecd962",
   "metadata": {},
   "outputs": [
    {
     "data": {
      "image/png": "[encoded data removed]",
      "text/plain": [
       "<Figure size 288x288 with 1 Axes>"
      ]
     },
     "metadata": {
      "needs_background": "light"
     },
     "output_type": "display_data"
    }
   ],
   "source": [
    "fig, ax = plt.subplots(1, figsize=(4,4))\n",
    "\n",
    "def draw_clusters(ax, df, fn):\n",
    "    clusters = set(df[\"Cluster\"].tolist())\n",
    "\n",
    "    for i in clusters:\n",
    "        subdf = df[df[\"Cluster\"]==i]\n",
    "        if i == -1:\n",
    "            ax.scatter(subdf[\"X\"], subdf[\"Y\"], s=1, c=\"lightgray\", lw=None, label=i)\n",
    "        else:\n",
    "            ax.scatter(subdf[\"X\"], subdf[\"Y\"], s=1, alpha=1, lw=None, label=i)\n",
    "            c_X = subdf[\"X\"].mean()\n",
    "            c_Y = subdf[\"Y\"].mean()\n",
    "            ax.annotate(\"{}\".format(i), xy=(c_X, c_Y), color=\"k\", ha=\"center\", va=\"center\", size=9) # , size=13\n",
    "\n",
    "    xmin, xmax = ax.get_xlim()\n",
    "    ymin, ymax = ax.get_ylim()\n",
    "\n",
    "    # draw density\n",
    "    xx, yy = np.mgrid[xmin:xmax:100j, ymin:ymax:100j]\n",
    "    positions = np.vstack([xx.ravel(), yy.ravel()])\n",
    "    values = np.vstack([df[\"X\"], df[\"Y\"]])\n",
    "    kernel = scipy.stats.gaussian_kde(values)\n",
    "    f = np.reshape(kernel(positions).T, xx.shape)\n",
    "    c = ax.contour(xx, yy, f, linewidths=0.5, colors=\"k\")\n",
    "\n",
    "    ax.set_xlabel(\"UMAP-1\")\n",
    "    ax.set_ylabel(\"UMAP-2\")\n",
    "    \n",
    "    ax.xaxis.set_major_locator(ticker.MultipleLocator(3))\n",
    "    ax.yaxis.set_major_locator(ticker.MultipleLocator(3))\n",
    "    \n",
    "    df.to_csv(\"{}\".format(fn))\n",
    "    \n",
    "draw_clusters(ax, df_HDBSCAN, \"Human_dev.motif.F10.clustered.csv\")\n",
    "\n",
    "plt.tight_layout()\n",
    "\n",
    "plt.savefig(\"Human_dev.pdf\")\n",
    "plt.show()"
   ]
  },
  {
   "cell_type": "markdown",
   "id": "8915cada",
   "metadata": {},
   "source": [
    "## 5.1 Extract fasta and draw motif (require MEME)\n",
    "\n",
    "Here we use a automatic function to finish fasta extraction and motif drawing.\n",
    "\n",
    "Our strategy is very fast. With clustering, we can focus on much clear targets in configuration of a run of MEME. We can learn the window range, the position, and other important information about the motif candidates."
   ]
  },
  {
   "cell_type": "code",
   "execution_count": 13,
   "id": "fac53866",
   "metadata": {},
   "outputs": [
    {
     "name": "stdout",
     "output_type": "stream",
     "text": [
      "===============  Human_dev ===============\n",
      "Cluster #1: 10595\n",
      "Cluster #2: 722\n",
      "Cluster #3: 30414\n"
     ]
    }
   ],
   "source": [
    "extract_fasta_and_draw_motifs(\"Human_dev\", df_HDBSCAN, motif_column=(\"INFO\", \"motif_F10\"))"
   ]
  },
  {
   "cell_type": "code",
   "execution_count": 14,
   "id": "fb4b56fb",
   "metadata": {},
   "outputs": [
    {
     "data": {
      "image/png": "[encoded data removed]",
      "text/plain": [
       "<Figure size 864x288 with 3 Axes>"
      ]
     },
     "metadata": {
      "needs_background": "light"
     },
     "output_type": "display_data"
    }
   ],
   "source": [
    "show_logos_cols(\"./Human_dev/logos_bits_png/\", cols=3)"
   ]
  },
  {
   "cell_type": "markdown",
   "id": "89c504b7",
   "metadata": {},
   "source": [
    "## 5.2 Motif discovery with MEME (require MEME)\n",
    "\n",
    "Of course, no method is 100% perfect. With MEME, we can check if we missed something in our clusters. We can also compare the results from MEME **before** and **after** clustering. Without the aid of clustering, MEME works hard in comprehensively uncover all of the motifs. "
   ]
  },
  {
   "cell_type": "code",
   "execution_count": 15,
   "id": "5c1bb1a0",
   "metadata": {},
   "outputs": [],
   "source": [
    "# run meme with all fasta output\n",
    "# skipped\n",
    "\n",
    "#for fn in os.listdir(\"./Human_dev/fasta/\"):\n",
    "    #run_meme(\"Human_dev\", \"./Human_dev/fasta/\", fn, mode=[\"streme\", \"meme\", \"ce\", \"cd\"], nmotifs=2)"
   ]
  },
  {
   "cell_type": "code",
   "execution_count": 16,
   "id": "dddb8280",
   "metadata": {},
   "outputs": [],
   "source": [
    "# check all sequences\n",
    "# skipped\n",
    "\n",
    "#os.system(\"cat ./Human_dev/fasta/*fa > ./Human_dev/meme/merged.fa\")\n",
    "\n",
    "# STREME\n",
    "#!streme --rna --pvt 0.05 -nmotifs 10 --minw 5 --maxw 10 --objfun cd --oc ./Human_dev/meme/merged_streme -p ./Human_dev/meme/merged.fa\n",
    "# Normal mode\n",
    "#!meme -rna -nmotifs 8 -minw 5 -maxw 10 -oc ./Human_dev/meme/merged_meme ./Human_dev/meme/merged.fa\n",
    "# CE mode\n",
    "#!meme -rna -objfun ce -nmotifs 8 -cefrac 0.1 -minw 5 -maxw 10 -oc ./Human_dev/meme/merged_meme_ce ./Human_dev/meme/merged.fa\n",
    "# CD mode\n",
    "#!meme -rna -objfun cd -nmotifs 8 -minw 5 -maxw 10 -oc ./Human_dev/meme/merged_meme_cd ./Human_dev/meme/merged.fa"
   ]
  }
 ],
 "metadata": {
  "kernelspec": {
   "display_name": "Python 3",
   "language": "python",
   "name": "python3"
  },
  "language_info": {
   "codemirror_mode": {
    "name": "ipython",
    "version": 3
   },
   "file_extension": ".py",
   "mimetype": "text/x-python",
   "name": "python",
   "nbconvert_exporter": "python",
   "pygments_lexer": "ipython3",
   "version": "3.7.8"
  }
 },
 "nbformat": 4,
 "nbformat_minor": 5
}
