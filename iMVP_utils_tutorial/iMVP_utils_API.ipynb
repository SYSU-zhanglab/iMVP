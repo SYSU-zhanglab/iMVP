{
 "cells": [
  {
   "cell_type": "markdown",
   "id": "ec68fc05",
   "metadata": {},
   "source": [
    "# A simple tutorial for iMVP-utils API"
   ]
  },
  {
   "cell_type": "markdown",
   "id": "bcbf5022",
   "metadata": {},
   "source": [
    "## 0. Load functions"
   ]
  },
  {
   "cell_type": "code",
   "execution_count": 1,
   "id": "9a90b10e",
   "metadata": {},
   "outputs": [],
   "source": [
    "from iMVP_utils import embedding,clustering, utils, plots"
   ]
  },
  {
   "cell_type": "markdown",
   "id": "abaab363",
   "metadata": {},
   "source": [
    "## 1. Load fasta file"
   ]
  },
  {
   "cell_type": "code",
   "execution_count": 2,
   "id": "7f7b955c",
   "metadata": {},
   "outputs": [],
   "source": [
    "df = utils.load_sequences_from_fasta(\"./input/test.fa\")"
   ]
  },
  {
   "cell_type": "code",
   "execution_count": 3,
   "id": "17b44282",
   "metadata": {},
   "outputs": [
    {
     "data": {
      "text/html": [
       "<div>\n",
       "<style scoped>\n",
       "    .dataframe tbody tr th:only-of-type {\n",
       "        vertical-align: middle;\n",
       "    }\n",
       "\n",
       "    .dataframe tbody tr th {\n",
       "        vertical-align: top;\n",
       "    }\n",
       "\n",
       "    .dataframe thead th {\n",
       "        text-align: right;\n",
       "    }\n",
       "</style>\n",
       "<table border=\"1\" class=\"dataframe\">\n",
       "  <thead>\n",
       "    <tr style=\"text-align: right;\">\n",
       "      <th></th>\n",
       "      <th>seq</th>\n",
       "      <th>site</th>\n",
       "    </tr>\n",
       "  </thead>\n",
       "  <tbody>\n",
       "    <tr>\n",
       "      <th>0</th>\n",
       "      <td>TCAAGTACGCCTCCAACTTCC</td>\n",
       "      <td>('2L@10201923@+',</td>\n",
       "    </tr>\n",
       "    <tr>\n",
       "      <th>1</th>\n",
       "      <td>ATTGAATTTGCTCTACAACCA</td>\n",
       "      <td>('2L@10206142@-',</td>\n",
       "    </tr>\n",
       "    <tr>\n",
       "      <th>2</th>\n",
       "      <td>TCCATTCACCCTCCAGGAGAA</td>\n",
       "      <td>('2L@10304620@-',</td>\n",
       "    </tr>\n",
       "    <tr>\n",
       "      <th>3</th>\n",
       "      <td>GCTTTAACACCTCCAAAAAGC</td>\n",
       "      <td>('2L@10423573@+',</td>\n",
       "    </tr>\n",
       "    <tr>\n",
       "      <th>4</th>\n",
       "      <td>CCTGCTCATCCTCAAGGACAC</td>\n",
       "      <td>('2L@10489508@+',</td>\n",
       "    </tr>\n",
       "    <tr>\n",
       "      <th>...</th>\n",
       "      <td>...</td>\n",
       "      <td>...</td>\n",
       "    </tr>\n",
       "    <tr>\n",
       "      <th>8397</th>\n",
       "      <td>AACGAGAGTCCGGCTGAAAAG</td>\n",
       "      <td>('XHet@68785@-',</td>\n",
       "    </tr>\n",
       "    <tr>\n",
       "      <th>8398</th>\n",
       "      <td>TAACGAGAGTCCGGCTGAAAA</td>\n",
       "      <td>('XHet@68786@-',</td>\n",
       "    </tr>\n",
       "    <tr>\n",
       "      <th>8399</th>\n",
       "      <td>TCACACCTATCGTGGGCATCG</td>\n",
       "      <td>('XHet@77281@+',</td>\n",
       "    </tr>\n",
       "    <tr>\n",
       "      <th>8400</th>\n",
       "      <td>GTTGAGGAAGCACTTGAAGAA</td>\n",
       "      <td>('YHet@328017@-',</td>\n",
       "    </tr>\n",
       "    <tr>\n",
       "      <th>8401</th>\n",
       "      <td>ACACATCGCCCGTCGCTCTTA</td>\n",
       "      <td>('dmel_mitochondrion_genome@14200@-',</td>\n",
       "    </tr>\n",
       "  </tbody>\n",
       "</table>\n",
       "<p>8402 rows × 2 columns</p>\n",
       "</div>"
      ],
      "text/plain": [
       "                        seq                                   site\n",
       "0     TCAAGTACGCCTCCAACTTCC                      ('2L@10201923@+',\n",
       "1     ATTGAATTTGCTCTACAACCA                      ('2L@10206142@-',\n",
       "2     TCCATTCACCCTCCAGGAGAA                      ('2L@10304620@-',\n",
       "3     GCTTTAACACCTCCAAAAAGC                      ('2L@10423573@+',\n",
       "4     CCTGCTCATCCTCAAGGACAC                      ('2L@10489508@+',\n",
       "...                     ...                                    ...\n",
       "8397  AACGAGAGTCCGGCTGAAAAG                       ('XHet@68785@-',\n",
       "8398  TAACGAGAGTCCGGCTGAAAA                       ('XHet@68786@-',\n",
       "8399  TCACACCTATCGTGGGCATCG                       ('XHet@77281@+',\n",
       "8400  GTTGAGGAAGCACTTGAAGAA                      ('YHet@328017@-',\n",
       "8401  ACACATCGCCCGTCGCTCTTA  ('dmel_mitochondrion_genome@14200@-',\n",
       "\n",
       "[8402 rows x 2 columns]"
      ]
     },
     "execution_count": 3,
     "metadata": {},
     "output_type": "execute_result"
    }
   ],
   "source": [
    "df"
   ]
  },
  {
   "cell_type": "markdown",
   "id": "0bf5a86d",
   "metadata": {},
   "source": [
    "## 3. Generate one-hot encoded input"
   ]
  },
  {
   "cell_type": "code",
   "execution_count": 4,
   "id": "cfabba1f",
   "metadata": {},
   "outputs": [],
   "source": [
    "df_onehot = embedding.onehot_encoder_df(df)"
   ]
  },
  {
   "cell_type": "code",
   "execution_count": 5,
   "id": "3205da40",
   "metadata": {},
   "outputs": [
    {
     "data": {
      "text/plain": [
       "array([0, 0, 0, 0, 1, 0, 1, 0, 0, 0, 1, 0, 0, 0, 0, 1, 0, 0, 0, 0, 0, 0,\n",
       "       1, 0, 0, 0, 0, 0, 0, 1, 1, 0, 0, 0, 0, 0, 1, 0, 0, 0, 0, 0, 1, 0,\n",
       "       0, 0, 1, 0, 0, 0, 0, 1, 0, 0, 0, 0, 0, 0, 0, 1, 0, 1, 0, 0, 0, 0,\n",
       "       1, 0, 0, 0, 1, 0, 0, 0, 0, 1, 0, 0, 0, 0, 0, 1, 0, 0, 0, 0, 0, 0,\n",
       "       0, 1, 0, 0, 0, 0, 1, 0, 1, 0, 0, 0, 0, 1, 0, 0, 0], dtype=int8)"
      ]
     },
     "execution_count": 5,
     "metadata": {},
     "output_type": "execute_result"
    }
   ],
   "source": [
    "df_onehot[0]"
   ]
  },
  {
   "cell_type": "markdown",
   "id": "560b3cc0",
   "metadata": {},
   "source": [
    "## 4. Run UMAP"
   ]
  },
  {
   "cell_type": "code",
   "execution_count": 6,
   "id": "9f6062f5",
   "metadata": {},
   "outputs": [
    {
     "name": "stdout",
     "output_type": "stream",
     "text": [
      "UMAP(init='random', min_dist=0.01, n_jobs=6, n_neighbors=20, random_state=42, verbose=True)\n",
      "Thu Mar 10 16:20:55 2022 Construct fuzzy simplicial set\n",
      "Thu Mar 10 16:20:55 2022 Finding Nearest Neighbors\n",
      "Thu Mar 10 16:20:55 2022 Building RP forest with 10 trees\n",
      "Thu Mar 10 16:20:55 2022 NN descent for 13 iterations\n",
      "\t 1  /  13\n",
      "\t 2  /  13\n",
      "\t 3  /  13\n",
      "\t 4  /  13\n",
      "\t 5  /  13\n",
      "\t 6  /  13\n",
      "\tStopping threshold met -- exiting after 6 iterations\n",
      "Thu Mar 10 16:23:23 2022 Finished Nearest Neighbor Search\n",
      "Thu Mar 10 16:23:26 2022 Construct embedding\n"
     ]
    },
    {
     "data": {
      "application/vnd.jupyter.widget-view+json": {
       "model_id": "a6ea8468ad904821a06e8272a2897525",
       "version_major": 2,
       "version_minor": 0
      },
      "text/plain": [
       "HBox(children=(FloatProgress(value=0.0, description='Epochs completed', max=500.0, style=ProgressStyle(descrip…"
      ]
     },
     "metadata": {},
     "output_type": "display_data"
    },
    {
     "name": "stdout",
     "output_type": "stream",
     "text": [
      "\n",
      "Thu Mar 10 16:23:48 2022 Finished embedding\n"
     ]
    }
   ],
   "source": [
    "df_UMAP = embedding.run_UMAP(df_onehot, df=df, init='random', random_state=42, min_dist=0.01, n_neighbors=20, densmap=False, verbose=True, n_jobs=6)"
   ]
  },
  {
   "cell_type": "code",
   "execution_count": 7,
   "id": "6e50b92c",
   "metadata": {},
   "outputs": [
    {
     "data": {
      "text/html": [
       "<div>\n",
       "<style scoped>\n",
       "    .dataframe tbody tr th:only-of-type {\n",
       "        vertical-align: middle;\n",
       "    }\n",
       "\n",
       "    .dataframe tbody tr th {\n",
       "        vertical-align: top;\n",
       "    }\n",
       "\n",
       "    .dataframe thead th {\n",
       "        text-align: right;\n",
       "    }\n",
       "</style>\n",
       "<table border=\"1\" class=\"dataframe\">\n",
       "  <thead>\n",
       "    <tr style=\"text-align: right;\">\n",
       "      <th></th>\n",
       "      <th>seq</th>\n",
       "      <th>site</th>\n",
       "      <th>X</th>\n",
       "      <th>Y</th>\n",
       "    </tr>\n",
       "  </thead>\n",
       "  <tbody>\n",
       "    <tr>\n",
       "      <th>0</th>\n",
       "      <td>TCAAGTACGCCTCCAACTTCC</td>\n",
       "      <td>('2L@10201923@+',</td>\n",
       "      <td>11.029230</td>\n",
       "      <td>5.040139</td>\n",
       "    </tr>\n",
       "    <tr>\n",
       "      <th>1</th>\n",
       "      <td>ATTGAATTTGCTCTACAACCA</td>\n",
       "      <td>('2L@10206142@-',</td>\n",
       "      <td>10.386844</td>\n",
       "      <td>4.118184</td>\n",
       "    </tr>\n",
       "    <tr>\n",
       "      <th>2</th>\n",
       "      <td>TCCATTCACCCTCCAGGAGAA</td>\n",
       "      <td>('2L@10304620@-',</td>\n",
       "      <td>10.442229</td>\n",
       "      <td>4.469188</td>\n",
       "    </tr>\n",
       "    <tr>\n",
       "      <th>3</th>\n",
       "      <td>GCTTTAACACCTCCAAAAAGC</td>\n",
       "      <td>('2L@10423573@+',</td>\n",
       "      <td>10.383232</td>\n",
       "      <td>5.025059</td>\n",
       "    </tr>\n",
       "    <tr>\n",
       "      <th>4</th>\n",
       "      <td>CCTGCTCATCCTCAAGGACAC</td>\n",
       "      <td>('2L@10489508@+',</td>\n",
       "      <td>10.940475</td>\n",
       "      <td>4.146748</td>\n",
       "    </tr>\n",
       "    <tr>\n",
       "      <th>...</th>\n",
       "      <td>...</td>\n",
       "      <td>...</td>\n",
       "      <td>...</td>\n",
       "      <td>...</td>\n",
       "    </tr>\n",
       "    <tr>\n",
       "      <th>8397</th>\n",
       "      <td>AACGAGAGTCCGGCTGAAAAG</td>\n",
       "      <td>('XHet@68785@-',</td>\n",
       "      <td>8.416724</td>\n",
       "      <td>2.773036</td>\n",
       "    </tr>\n",
       "    <tr>\n",
       "      <th>8398</th>\n",
       "      <td>TAACGAGAGTCCGGCTGAAAA</td>\n",
       "      <td>('XHet@68786@-',</td>\n",
       "      <td>9.894358</td>\n",
       "      <td>1.499758</td>\n",
       "    </tr>\n",
       "    <tr>\n",
       "      <th>8399</th>\n",
       "      <td>TCACACCTATCGTGGGCATCG</td>\n",
       "      <td>('XHet@77281@+',</td>\n",
       "      <td>8.377650</td>\n",
       "      <td>0.984917</td>\n",
       "    </tr>\n",
       "    <tr>\n",
       "      <th>8400</th>\n",
       "      <td>GTTGAGGAAGCACTTGAAGAA</td>\n",
       "      <td>('YHet@328017@-',</td>\n",
       "      <td>11.084383</td>\n",
       "      <td>2.396641</td>\n",
       "    </tr>\n",
       "    <tr>\n",
       "      <th>8401</th>\n",
       "      <td>ACACATCGCCCGTCGCTCTTA</td>\n",
       "      <td>('dmel_mitochondrion_genome@14200@-',</td>\n",
       "      <td>8.902025</td>\n",
       "      <td>1.242168</td>\n",
       "    </tr>\n",
       "  </tbody>\n",
       "</table>\n",
       "<p>8402 rows × 4 columns</p>\n",
       "</div>"
      ],
      "text/plain": [
       "                        seq                                   site          X  \\\n",
       "0     TCAAGTACGCCTCCAACTTCC                      ('2L@10201923@+',  11.029230   \n",
       "1     ATTGAATTTGCTCTACAACCA                      ('2L@10206142@-',  10.386844   \n",
       "2     TCCATTCACCCTCCAGGAGAA                      ('2L@10304620@-',  10.442229   \n",
       "3     GCTTTAACACCTCCAAAAAGC                      ('2L@10423573@+',  10.383232   \n",
       "4     CCTGCTCATCCTCAAGGACAC                      ('2L@10489508@+',  10.940475   \n",
       "...                     ...                                    ...        ...   \n",
       "8397  AACGAGAGTCCGGCTGAAAAG                       ('XHet@68785@-',   8.416724   \n",
       "8398  TAACGAGAGTCCGGCTGAAAA                       ('XHet@68786@-',   9.894358   \n",
       "8399  TCACACCTATCGTGGGCATCG                       ('XHet@77281@+',   8.377650   \n",
       "8400  GTTGAGGAAGCACTTGAAGAA                      ('YHet@328017@-',  11.084383   \n",
       "8401  ACACATCGCCCGTCGCTCTTA  ('dmel_mitochondrion_genome@14200@-',   8.902025   \n",
       "\n",
       "             Y  \n",
       "0     5.040139  \n",
       "1     4.118184  \n",
       "2     4.469188  \n",
       "3     5.025059  \n",
       "4     4.146748  \n",
       "...        ...  \n",
       "8397  2.773036  \n",
       "8398  1.499758  \n",
       "8399  0.984917  \n",
       "8400  2.396641  \n",
       "8401  1.242168  \n",
       "\n",
       "[8402 rows x 4 columns]"
      ]
     },
     "execution_count": 7,
     "metadata": {},
     "output_type": "execute_result"
    }
   ],
   "source": [
    "df_UMAP"
   ]
  },
  {
   "cell_type": "markdown",
   "id": "4fd4b622",
   "metadata": {},
   "source": [
    "## 5. Run HDBSCAN"
   ]
  },
  {
   "cell_type": "code",
   "execution_count": 8,
   "id": "246a14bc",
   "metadata": {},
   "outputs": [
    {
     "name": "stdout",
     "output_type": "stream",
     "text": [
      "HDBSCAN cluster number: 2\n",
      "Cluster\n",
      "1     904\n",
      "2    7498\n",
      "Name: Cluster, dtype: int64\n"
     ]
    },
    {
     "data": {
      "image/png": "[encoded data removed]",
      "text/plain": [
       "<Figure size 432x288 with 2 Axes>"
      ]
     },
     "metadata": {
      "needs_background": "light"
     },
     "output_type": "display_data"
    }
   ],
   "source": [
    "df_HDBSCAN, HDBSCA_Model = clustering.run_HDBSCAN(df=df_UMAP, soft_clustering=True, min_cluster_size=100, min_samples=10, cluster_selection_epsilon=0.0, cluster_selection_method='eom', draw_condensed_tree=True, core_dist_n_jobs=6)"
   ]
  },
  {
   "cell_type": "code",
   "execution_count": 9,
   "id": "a8a0ba4e",
   "metadata": {},
   "outputs": [
    {
     "data": {
      "text/html": [
       "<div>\n",
       "<style scoped>\n",
       "    .dataframe tbody tr th:only-of-type {\n",
       "        vertical-align: middle;\n",
       "    }\n",
       "\n",
       "    .dataframe tbody tr th {\n",
       "        vertical-align: top;\n",
       "    }\n",
       "\n",
       "    .dataframe thead th {\n",
       "        text-align: right;\n",
       "    }\n",
       "</style>\n",
       "<table border=\"1\" class=\"dataframe\">\n",
       "  <thead>\n",
       "    <tr style=\"text-align: right;\">\n",
       "      <th></th>\n",
       "      <th>seq</th>\n",
       "      <th>site</th>\n",
       "      <th>X</th>\n",
       "      <th>Y</th>\n",
       "      <th>Cluster</th>\n",
       "    </tr>\n",
       "  </thead>\n",
       "  <tbody>\n",
       "    <tr>\n",
       "      <th>0</th>\n",
       "      <td>TCAAGTACGCCTCCAACTTCC</td>\n",
       "      <td>('2L@10201923@+',</td>\n",
       "      <td>11.029230</td>\n",
       "      <td>5.040139</td>\n",
       "      <td>1</td>\n",
       "    </tr>\n",
       "    <tr>\n",
       "      <th>1</th>\n",
       "      <td>ATTGAATTTGCTCTACAACCA</td>\n",
       "      <td>('2L@10206142@-',</td>\n",
       "      <td>10.386844</td>\n",
       "      <td>4.118184</td>\n",
       "      <td>1</td>\n",
       "    </tr>\n",
       "    <tr>\n",
       "      <th>2</th>\n",
       "      <td>TCCATTCACCCTCCAGGAGAA</td>\n",
       "      <td>('2L@10304620@-',</td>\n",
       "      <td>10.442229</td>\n",
       "      <td>4.469188</td>\n",
       "      <td>1</td>\n",
       "    </tr>\n",
       "    <tr>\n",
       "      <th>3</th>\n",
       "      <td>GCTTTAACACCTCCAAAAAGC</td>\n",
       "      <td>('2L@10423573@+',</td>\n",
       "      <td>10.383232</td>\n",
       "      <td>5.025059</td>\n",
       "      <td>1</td>\n",
       "    </tr>\n",
       "    <tr>\n",
       "      <th>4</th>\n",
       "      <td>CCTGCTCATCCTCAAGGACAC</td>\n",
       "      <td>('2L@10489508@+',</td>\n",
       "      <td>10.940475</td>\n",
       "      <td>4.146748</td>\n",
       "      <td>1</td>\n",
       "    </tr>\n",
       "    <tr>\n",
       "      <th>...</th>\n",
       "      <td>...</td>\n",
       "      <td>...</td>\n",
       "      <td>...</td>\n",
       "      <td>...</td>\n",
       "      <td>...</td>\n",
       "    </tr>\n",
       "    <tr>\n",
       "      <th>8397</th>\n",
       "      <td>AACGAGAGTCCGGCTGAAAAG</td>\n",
       "      <td>('XHet@68785@-',</td>\n",
       "      <td>8.416724</td>\n",
       "      <td>2.773036</td>\n",
       "      <td>2</td>\n",
       "    </tr>\n",
       "    <tr>\n",
       "      <th>8398</th>\n",
       "      <td>TAACGAGAGTCCGGCTGAAAA</td>\n",
       "      <td>('XHet@68786@-',</td>\n",
       "      <td>9.894358</td>\n",
       "      <td>1.499758</td>\n",
       "      <td>2</td>\n",
       "    </tr>\n",
       "    <tr>\n",
       "      <th>8399</th>\n",
       "      <td>TCACACCTATCGTGGGCATCG</td>\n",
       "      <td>('XHet@77281@+',</td>\n",
       "      <td>8.377650</td>\n",
       "      <td>0.984917</td>\n",
       "      <td>2</td>\n",
       "    </tr>\n",
       "    <tr>\n",
       "      <th>8400</th>\n",
       "      <td>GTTGAGGAAGCACTTGAAGAA</td>\n",
       "      <td>('YHet@328017@-',</td>\n",
       "      <td>11.084383</td>\n",
       "      <td>2.396641</td>\n",
       "      <td>2</td>\n",
       "    </tr>\n",
       "    <tr>\n",
       "      <th>8401</th>\n",
       "      <td>ACACATCGCCCGTCGCTCTTA</td>\n",
       "      <td>('dmel_mitochondrion_genome@14200@-',</td>\n",
       "      <td>8.902025</td>\n",
       "      <td>1.242168</td>\n",
       "      <td>2</td>\n",
       "    </tr>\n",
       "  </tbody>\n",
       "</table>\n",
       "<p>8402 rows × 5 columns</p>\n",
       "</div>"
      ],
      "text/plain": [
       "                        seq                                   site          X  \\\n",
       "0     TCAAGTACGCCTCCAACTTCC                      ('2L@10201923@+',  11.029230   \n",
       "1     ATTGAATTTGCTCTACAACCA                      ('2L@10206142@-',  10.386844   \n",
       "2     TCCATTCACCCTCCAGGAGAA                      ('2L@10304620@-',  10.442229   \n",
       "3     GCTTTAACACCTCCAAAAAGC                      ('2L@10423573@+',  10.383232   \n",
       "4     CCTGCTCATCCTCAAGGACAC                      ('2L@10489508@+',  10.940475   \n",
       "...                     ...                                    ...        ...   \n",
       "8397  AACGAGAGTCCGGCTGAAAAG                       ('XHet@68785@-',   8.416724   \n",
       "8398  TAACGAGAGTCCGGCTGAAAA                       ('XHet@68786@-',   9.894358   \n",
       "8399  TCACACCTATCGTGGGCATCG                       ('XHet@77281@+',   8.377650   \n",
       "8400  GTTGAGGAAGCACTTGAAGAA                      ('YHet@328017@-',  11.084383   \n",
       "8401  ACACATCGCCCGTCGCTCTTA  ('dmel_mitochondrion_genome@14200@-',   8.902025   \n",
       "\n",
       "             Y  Cluster  \n",
       "0     5.040139        1  \n",
       "1     4.118184        1  \n",
       "2     4.469188        1  \n",
       "3     5.025059        1  \n",
       "4     4.146748        1  \n",
       "...        ...      ...  \n",
       "8397  2.773036        2  \n",
       "8398  1.499758        2  \n",
       "8399  0.984917        2  \n",
       "8400  2.396641        2  \n",
       "8401  1.242168        2  \n",
       "\n",
       "[8402 rows x 5 columns]"
      ]
     },
     "execution_count": 9,
     "metadata": {},
     "output_type": "execute_result"
    }
   ],
   "source": [
    "df_HDBSCAN"
   ]
  },
  {
   "cell_type": "markdown",
   "id": "78a35495",
   "metadata": {},
   "source": [
    "## 6. (Optional) Draww 2-D histogram"
   ]
  },
  {
   "cell_type": "code",
   "execution_count": 10,
   "id": "7bb472ea",
   "metadata": {},
   "outputs": [
    {
     "data": {
      "image/png": "[encoded data removed]",
      "text/plain": [
       "<Figure size 432x432 with 1 Axes>"
      ]
     },
     "metadata": {},
     "output_type": "display_data"
    }
   ],
   "source": [
    "_ = plots.draw_2D_hist(df_HDBSCAN, vmax=0.05, density=True, xlim=None, ylim=None, bins=[50, 50])"
   ]
  },
  {
   "cell_type": "markdown",
   "id": "2671c1c5",
   "metadata": {},
   "source": [
    "## 7. Draw scatter"
   ]
  },
  {
   "cell_type": "code",
   "execution_count": 11,
   "id": "e2890cf4",
   "metadata": {},
   "outputs": [
    {
     "data": {
      "image/png": "[encoded data removed]",
      "text/plain": [
       "<Figure size 432x432 with 1 Axes>"
      ]
     },
     "metadata": {
      "needs_background": "light"
     },
     "output_type": "display_data"
    }
   ],
   "source": [
    "import matplotlib as mpl\n",
    "import matplotlib.pyplot as plt\n",
    "fig, ax = plt.subplots(figsize=[6,6])\n",
    "for i in [1,2]:\n",
    "    subdf = df_HDBSCAN[df_HDBSCAN[\"Cluster\"]==i]\n",
    "    ax.scatter(subdf[\"X\"], subdf[\"Y\"], lw=0, s=3)\n",
    "ax.set_xlabel(\"UMAP-1\")\n",
    "ax.set_ylabel(\"UMAP-2\")\n",
    "plt.tight_layout()"
   ]
  },
  {
   "cell_type": "markdown",
   "id": "23791d25",
   "metadata": {},
   "source": [
    "## 8. Extract fasta and draw logos"
   ]
  },
  {
   "cell_type": "code",
   "execution_count": 12,
   "id": "3e470554",
   "metadata": {},
   "outputs": [
    {
     "name": "stdout",
     "output_type": "stream",
     "text": [
      "===============  ./test ===============\n",
      "Cluster #1: 904\n",
      "Cluster #2: 7498\n"
     ]
    }
   ],
   "source": [
    "utils.extract_fasta_and_draw_motifs(\"./test\", df_HDBSCAN, cluster_col='Cluster', filter=None, motif_column='seq', draw_logos=True)"
   ]
  },
  {
   "cell_type": "code",
   "execution_count": 13,
   "id": "f9b3171e",
   "metadata": {},
   "outputs": [
    {
     "data": {
      "text/plain": [
       "array([<matplotlib.axes._subplots.AxesSubplot object at 0x7fb8dd652e50>,\n",
       "       <matplotlib.axes._subplots.AxesSubplot object at 0x7fb8dde66310>],\n",
       "      dtype=object)"
      ]
     },
     "execution_count": 13,
     "metadata": {},
     "output_type": "execute_result"
    },
    {
     "data": {
      "image/png": "[encoded data removed]",
      "text/plain": [
       "<Figure size 576x108 with 2 Axes>"
      ]
     },
     "metadata": {
      "needs_background": "light"
     },
     "output_type": "display_data"
    }
   ],
   "source": [
    "# png only\n",
    "plots.show_logos_cols(\"./test/logos_bits_png\", names=None, cols=2, auto_size=True, auto_width=4, auto_height=1.5, dpi=300)"
   ]
  },
  {
   "cell_type": "markdown",
   "id": "d9ace325",
   "metadata": {},
   "source": [
    "## 9. Save csv"
   ]
  },
  {
   "cell_type": "code",
   "execution_count": 14,
   "id": "6aff9dec",
   "metadata": {},
   "outputs": [],
   "source": [
    "df_HDBSCAN.to_csv(\"test.csv\")"
   ]
  }
 ],
 "metadata": {
  "kernelspec": {
   "display_name": "Python 3",
   "language": "python",
   "name": "python3"
  },
  "language_info": {
   "codemirror_mode": {
    "name": "ipython",
    "version": 3
   },
   "file_extension": ".py",
   "mimetype": "text/x-python",
   "name": "python",
   "nbconvert_exporter": "python",
   "pygments_lexer": "ipython3",
   "version": "3.7.8"
  }
 },
 "nbformat": 4,
 "nbformat_minor": 5
}
